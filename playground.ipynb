{
 "cells": [
  {
   "cell_type": "markdown",
   "id": "responsible-above",
   "metadata": {},
   "source": [
    "# Setup environment"
   ]
  },
  {
   "cell_type": "code",
   "execution_count": null,
   "id": "instant-eugene",
   "metadata": {},
   "outputs": [],
   "source": [
    "# %%bash\n",
    "# git clone https://github.com/Paulescu/talking-machines.git\n",
    "# mv talking-machines/* .\n",
    "# rm -r talking-machines\n",
    "# pip install -r requirements_py3.6.txt"
   ]
  },
  {
   "cell_type": "code",
   "execution_count": 112,
   "id": "nervous-rough",
   "metadata": {},
   "outputs": [
    {
     "name": "stdout",
     "output_type": "stream",
     "text": [
      "The autoreload extension is already loaded. To reload it, use:\n",
      "  %reload_ext autoreload\n"
     ]
    }
   ],
   "source": [
    "%load_ext autoreload\n",
    "%autoreload 2"
   ]
  },
  {
   "cell_type": "code",
   "execution_count": 120,
   "id": "statistical-nancy",
   "metadata": {},
   "outputs": [
    {
     "name": "stdout",
     "output_type": "stream",
     "text": [
      "Running in local\n"
     ]
    }
   ],
   "source": [
    "from pathlib import Path\n",
    "\n",
    "if 'google.colab' in str(get_ipython()):\n",
    "    print('Runnin in Colab')\n",
    "    CHECKPOINT_DIR = Path('/content/drive/MyDrive/chatbot-course')\n",
    "else:\n",
    "    print('Running in local')\n",
    "    CHECKPOINT_DIR = Path('./checkpoints')"
   ]
  },
  {
   "cell_type": "code",
   "execution_count": 121,
   "id": "vanilla-comparison",
   "metadata": {},
   "outputs": [
    {
     "name": "stdout",
     "output_type": "stream",
     "text": [
      "GPU is not available. If you are using Google Colab, change the runtime to GPU, otherwise training will take too long.\n"
     ]
    }
   ],
   "source": [
    "import torch\n",
    "if torch.cuda.is_available():\n",
    "    DEVICE = torch.device(\"cuda\")\n",
    "    print('GPU acceleration is available and will be used :-)')\n",
    "else:\n",
    "    DEVICE = torch.device(\"cpu\")\n",
    "    print('GPU is not available. If you are using Google Colab, change the runtime to GPU, otherwise training will '\n",
    "          'take too long.')"
   ]
  },
  {
   "cell_type": "markdown",
   "id": "convertible-grade",
   "metadata": {},
   "source": [
    "# Download the data"
   ]
  },
  {
   "cell_type": "code",
   "execution_count": 75,
   "id": "moderate-plane",
   "metadata": {},
   "outputs": [
    {
     "name": "stdout",
     "output_type": "stream",
     "text": [
      "--2021-01-27 21:16:43--  https://s3.amazonaws.com/datasets.huggingface.co/personachat/personachat_self_original.json\n",
      "Resolving s3.amazonaws.com (s3.amazonaws.com)... 52.216.251.30\n",
      "Connecting to s3.amazonaws.com (s3.amazonaws.com)|52.216.251.30|:443... connected.\n",
      "HTTP request sent, awaiting response... 200 OK\n",
      "Length: 209850483 (200M) [application/json]\n",
      "Saving to: ‘./data/personachat_self_original.json.1’\n",
      "\n",
      "personachat_self_or 100%[===================>] 200.13M  5.70MB/s    in 36s     \n",
      "\n",
      "2021-01-27 21:17:19 (5.60 MB/s) - ‘./data/personachat_self_original.json.1’ saved [209850483/209850483]\n",
      "\n"
     ]
    }
   ],
   "source": [
    "!sh download_data.sh"
   ]
  },
  {
   "cell_type": "code",
   "execution_count": 122,
   "id": "numerical-gateway",
   "metadata": {},
   "outputs": [
    {
     "data": {
      "application/vnd.jupyter.widget-view+json": {
       "model_id": "99d703c771524e22bb3d0d8f43eeacac",
       "version_major": 2,
       "version_minor": 0
      },
      "text/plain": [
       "  0%|          | 0/17878 [00:00<?, ?it/s]"
      ]
     },
     "metadata": {},
     "output_type": "display_data"
    },
    {
     "name": "stdout",
     "output_type": "stream",
     "text": [
      "0 lines removed\n",
      "Train set 122,499\n"
     ]
    },
    {
     "data": {
      "application/vnd.jupyter.widget-view+json": {
       "model_id": "aa47c4c7f7894c92a2f495a192c958a9",
       "version_major": 2,
       "version_minor": 0
      },
      "text/plain": [
       "  0%|          | 0/1000 [00:00<?, ?it/s]"
      ]
     },
     "metadata": {},
     "output_type": "display_data"
    },
    {
     "name": "stdout",
     "output_type": "stream",
     "text": [
      "0 lines removed\n",
      "Test set 7,801\n"
     ]
    }
   ],
   "source": [
    "%autoreload 2\n",
    "from data_util import generate_train_validation_test_files\n",
    "\n",
    "train_csv, val_csv, test_csv = generate_train_validation_test_files(autocorrect=True)"
   ]
  },
  {
   "cell_type": "code",
   "execution_count": 131,
   "id": "limited-criminal",
   "metadata": {},
   "outputs": [
    {
     "name": "stdout",
     "output_type": "stream",
     "text": [
      "Train set size: 150\n",
      "Validation set size: 7\n",
      "Vocab size:  694\n"
     ]
    }
   ],
   "source": [
    "%autoreload 2\n",
    "from data_util import TrainingDataWrapper, save_vocab\n",
    "\n",
    "# Dataset objects\n",
    "dw = TrainingDataWrapper()\n",
    "train_ds, val_ds, test_ds = dw.get_datasets(\n",
    "    train_csv,\n",
    "    val_csv,\n",
    "    test_csv,\n",
    "\n",
    "    # speed up development iterations\n",
    "    train_size=150, # 132000,\n",
    "    val_size=7, # 7801,\n",
    "    \n",
    "    use_glove=True\n",
    ")\n",
    "print(f'Train set size: {len(train_ds):,}')\n",
    "print(f'Validation set size: {len(val_ds):,}')\n",
    "print('Vocab size: ', dw.vocab_size)\n",
    "\n",
    "# Save vocab to disk\n",
    "save_vocab(dw.vocab, CHECKPOINT_DIR / f'vocab_{dw.vocab_size}')"
   ]
  },
  {
   "cell_type": "code",
   "execution_count": 132,
   "id": "alternative-attendance",
   "metadata": {
    "scrolled": true
   },
   "outputs": [
    {
     "name": "stdout",
     "output_type": "stream",
     "text": [
      "Example \n",
      "-------\n",
      "tensor([[ 2, 50, 10,  ...,  0, 85,  3],\n",
      "        [ 2, 38, 10,  ...,  1,  1,  1],\n",
      "        [ 2, 50, 10,  ...,  1,  1,  1],\n",
      "        [ 2, 84, 10,  ...,  1,  1,  1],\n",
      "        [ 2,  4, 18,  ...,  1,  1,  1],\n",
      "        [ 2, 84, 22,  ...,  1,  1,  1]])\n",
      "tensor([210, 194, 179, 180, 177, 171])\n"
     ]
    }
   ],
   "source": [
    "# DataLoader objects\n",
    "train_iter, val_iter, test_iter = dw.get_dataloaders(\n",
    "    train_ds, val_ds, test_ds,\n",
    "    batch_size=2400,\n",
    "    device=DEVICE\n",
    ")\n",
    "\n",
    "x = next(iter(train_iter))\n",
    "print('Example \\n-------')\n",
    "print(x.src[0])\n",
    "print(x.src[1])"
   ]
  },
  {
   "cell_type": "code",
   "execution_count": 133,
   "id": "voluntary-credit",
   "metadata": {},
   "outputs": [
    {
     "name": "stdout",
     "output_type": "stream",
     "text": [
      "The model has 5,554,126 parameters\n"
     ]
    }
   ],
   "source": [
    "%autoreload 2\n",
    "from model import Seq2seqRNN, count_parameters\n",
    "\n",
    "hidden_dim = 256\n",
    "n_layers = 3\n",
    "n_directions_encoder = 2\n",
    "model = Seq2seqRNN(dw.vocab_size,\n",
    "                   dw.embedding_dim,\n",
    "                   hidden_dim,\n",
    "                   n_layers,\n",
    "                   n_directions_encoder,\n",
    "                   dropout=0.2,\n",
    "                   pretrained_embeddings=dw.embeddings,\n",
    "                   freeze_embeddings=False)\n",
    "\n",
    "print(f'The model has {count_parameters(model):,} parameters')"
   ]
  },
  {
   "cell_type": "code",
   "execution_count": 134,
   "id": "gothic-clothing",
   "metadata": {},
   "outputs": [
    {
     "data": {
      "application/vnd.jupyter.widget-view+json": {
       "model_id": "ad3f75f1f6ac44cf89e18f3aa6e8caae",
       "version_major": 2,
       "version_minor": 0
      },
      "text/plain": [
       "  0%|          | 0/150 [00:00<?, ?it/s]"
      ]
     },
     "metadata": {},
     "output_type": "display_data"
    },
    {
     "data": {
      "application/vnd.jupyter.widget-view+json": {
       "model_id": "816a36b64b1544e58a1dd0d0475578eb",
       "version_major": 2,
       "version_minor": 0
      },
      "text/plain": [
       "  0%|          | 0/7 [00:00<?, ?it/s]"
      ]
     },
     "metadata": {},
     "output_type": "display_data"
    },
    {
     "name": "stdout",
     "output_type": "stream",
     "text": [
      "Epoch: 000, Train loss: 6.5203, Val loss: 6.4679, Train ppl: 678.8, Val ppl: 644.1\n",
      "checkpoints/0193b9c0-6544-11eb-b0e5-acbc32b70c09/0.ckpt was saved\n",
      "checkpoints/0193b9c0-6544-11eb-b0e5-acbc32b70c09/params.json file was saved\n"
     ]
    },
    {
     "data": {
      "application/vnd.jupyter.widget-view+json": {
       "model_id": "7bc04c52d9d549879f771372bcbb64b0",
       "version_major": 2,
       "version_minor": 0
      },
      "text/plain": [
       "  0%|          | 0/150 [00:00<?, ?it/s]"
      ]
     },
     "metadata": {},
     "output_type": "display_data"
    },
    {
     "data": {
      "application/vnd.jupyter.widget-view+json": {
       "model_id": "9e7fc7590e3d4c5292f85f009b9adeb0",
       "version_major": 2,
       "version_minor": 0
      },
      "text/plain": [
       "  0%|          | 0/7 [00:00<?, ?it/s]"
      ]
     },
     "metadata": {},
     "output_type": "display_data"
    },
    {
     "name": "stdout",
     "output_type": "stream",
     "text": [
      "Epoch: 001, Train loss: 6.4153, Val loss: 6.0018, Train ppl: 611.1, Val ppl: 404.1\n",
      "checkpoints/0193b9c0-6544-11eb-b0e5-acbc32b70c09/1.ckpt was saved\n",
      "checkpoints/0193b9c0-6544-11eb-b0e5-acbc32b70c09/params.json file was saved\n"
     ]
    }
   ],
   "source": [
    "%autoreload 2\n",
    "from train import Seq2seqRNNTrainer\n",
    "\n",
    "trainer = Seq2seqRNNTrainer(model,\n",
    "                            train_iter,\n",
    "                            val_iter,\n",
    "                            learning_rate=3e-4,\n",
    "                            pad_token_id=dw.pad_token_id,\n",
    "                            gradient_clip=99999,\n",
    "                            teacher_forcing=0.5,\n",
    "                            checkpoint_dir=CHECKPOINT_DIR)\n",
    "n_epochs = 2\n",
    "trainer.train_test_loop(n_epochs)"
   ]
  },
  {
   "cell_type": "code",
   "execution_count": 135,
   "id": "abstract-beijing",
   "metadata": {},
   "outputs": [
    {
     "data": {
      "application/vnd.jupyter.widget-view+json": {
       "model_id": "b7091ec0ee6943da9c50ffdd548bac77",
       "version_major": 2,
       "version_minor": 0
      },
      "text/plain": [
       "  0%|          | 0/150 [00:00<?, ?it/s]"
      ]
     },
     "metadata": {},
     "output_type": "display_data"
    },
    {
     "data": {
      "application/vnd.jupyter.widget-view+json": {
       "model_id": "49a30c22371b4e84832ffef4572a3a64",
       "version_major": 2,
       "version_minor": 0
      },
      "text/plain": [
       "  0%|          | 0/7 [00:00<?, ?it/s]"
      ]
     },
     "metadata": {},
     "output_type": "display_data"
    },
    {
     "name": "stdout",
     "output_type": "stream",
     "text": [
      "Epoch: 000, Train loss: 5.7879, Val loss: 4.7615, Train ppl: 326.3, Val ppl: 116.9\n",
      "checkpoints/0193b9c0-6544-11eb-b0e5-acbc32b70c09/1.ckpt was saved\n",
      "checkpoints/0193b9c0-6544-11eb-b0e5-acbc32b70c09/params.json file was saved\n"
     ]
    },
    {
     "data": {
      "application/vnd.jupyter.widget-view+json": {
       "model_id": "35d7c80478b14fffb12d7685850b60b1",
       "version_major": 2,
       "version_minor": 0
      },
      "text/plain": [
       "  0%|          | 0/150 [00:00<?, ?it/s]"
      ]
     },
     "metadata": {},
     "output_type": "display_data"
    },
    {
     "data": {
      "application/vnd.jupyter.widget-view+json": {
       "model_id": "2ff99563a553414298986f86b2c72b55",
       "version_major": 2,
       "version_minor": 0
      },
      "text/plain": [
       "  0%|          | 0/7 [00:00<?, ?it/s]"
      ]
     },
     "metadata": {},
     "output_type": "display_data"
    },
    {
     "name": "stdout",
     "output_type": "stream",
     "text": [
      "Epoch: 001, Train loss: 5.1757, Val loss: 4.3103, Train ppl: 176.9, Val ppl: 74.5\n",
      "checkpoints/0193b9c0-6544-11eb-b0e5-acbc32b70c09/2.ckpt was saved\n",
      "checkpoints/0193b9c0-6544-11eb-b0e5-acbc32b70c09/params.json file was saved\n"
     ]
    }
   ],
   "source": [
    "trainer.load(run_id=trainer.run_id, epoch=1)\n",
    "\n",
    "n_epochs = 2\n",
    "trainer.train_test_loop(n_epochs)"
   ]
  },
  {
   "cell_type": "code",
   "execution_count": 136,
   "id": "critical-replica",
   "metadata": {},
   "outputs": [
    {
     "data": {
      "application/vnd.jupyter.widget-view+json": {
       "model_id": "b62fc82699594e019338ff3d05ca029e",
       "version_major": 2,
       "version_minor": 0
      },
      "text/plain": [
       "  0%|          | 0/150 [00:00<?, ?it/s]"
      ]
     },
     "metadata": {},
     "output_type": "display_data"
    },
    {
     "data": {
      "application/vnd.jupyter.widget-view+json": {
       "model_id": "1fe8a3fc286f489d83a88523159da806",
       "version_major": 2,
       "version_minor": 0
      },
      "text/plain": [
       "  0%|          | 0/7 [00:00<?, ?it/s]"
      ]
     },
     "metadata": {},
     "output_type": "display_data"
    },
    {
     "name": "stdout",
     "output_type": "stream",
     "text": [
      "Epoch: 000, Train loss: 4.9722, Val loss: 4.1971, Train ppl: 144.3, Val ppl: 66.5\n",
      "checkpoints/0193b9c0-6544-11eb-b0e5-acbc32b70c09/3.ckpt was saved\n",
      "checkpoints/0193b9c0-6544-11eb-b0e5-acbc32b70c09/params.json file was saved\n"
     ]
    },
    {
     "data": {
      "application/vnd.jupyter.widget-view+json": {
       "model_id": "857861c2aa5d445b913c02ea65b8f1f0",
       "version_major": 2,
       "version_minor": 0
      },
      "text/plain": [
       "  0%|          | 0/150 [00:00<?, ?it/s]"
      ]
     },
     "metadata": {},
     "output_type": "display_data"
    },
    {
     "data": {
      "application/vnd.jupyter.widget-view+json": {
       "model_id": "a8efd4f826d64e78928dbca5cf4c8bad",
       "version_major": 2,
       "version_minor": 0
      },
      "text/plain": [
       "  0%|          | 0/7 [00:00<?, ?it/s]"
      ]
     },
     "metadata": {},
     "output_type": "display_data"
    },
    {
     "name": "stdout",
     "output_type": "stream",
     "text": [
      "Epoch: 001, Train loss: 4.8659, Val loss: 4.1958, Train ppl: 129.8, Val ppl: 66.4\n",
      "checkpoints/0193b9c0-6544-11eb-b0e5-acbc32b70c09/4.ckpt was saved\n",
      "checkpoints/0193b9c0-6544-11eb-b0e5-acbc32b70c09/params.json file was saved\n"
     ]
    }
   ],
   "source": [
    "n_epochs = 2\n",
    "trainer.train_test_loop(n_epochs)"
   ]
  },
  {
   "cell_type": "code",
   "execution_count": null,
   "id": "tamil-enterprise",
   "metadata": {},
   "outputs": [],
   "source": []
  }
 ],
 "metadata": {
  "kernelspec": {
   "display_name": "Python 3",
   "language": "python",
   "name": "python3"
  },
  "language_info": {
   "codemirror_mode": {
    "name": "ipython",
    "version": 3
   },
   "file_extension": ".py",
   "mimetype": "text/x-python",
   "name": "python",
   "nbconvert_exporter": "python",
   "pygments_lexer": "ipython3",
   "version": "3.6.9"
  }
 },
 "nbformat": 4,
 "nbformat_minor": 5
}
