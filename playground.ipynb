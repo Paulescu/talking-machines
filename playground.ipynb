{
 "cells": [
  {
   "cell_type": "markdown",
   "id": "classified-blair",
   "metadata": {},
   "source": [
    "# Setup environment"
   ]
  },
  {
   "cell_type": "code",
   "execution_count": null,
   "id": "surface-namibia",
   "metadata": {},
   "outputs": [],
   "source": [
    "# %%bash\n",
    "# git clone https://github.com/Paulescu/talking-machines.git\n",
    "# mv talking-machines/* .\n",
    "# rm -r talking-machines\n",
    "# pip install -r requirements_py3.6.txt"
   ]
  },
  {
   "cell_type": "code",
   "execution_count": 1,
   "id": "nervous-rough",
   "metadata": {},
   "outputs": [],
   "source": [
    "%load_ext autoreload\n",
    "%autoreload 2"
   ]
  },
  {
   "cell_type": "code",
   "execution_count": 2,
   "id": "vanilla-comparison",
   "metadata": {},
   "outputs": [
    {
     "name": "stdout",
     "output_type": "stream",
     "text": [
      "GPU is not available. If you are using Google Colab, change the runtime to GPU, otherwise training will take too long.\n"
     ]
    }
   ],
   "source": [
    "import torch\n",
    "if torch.cuda.is_available():\n",
    "    DEVICE = torch.device(\"cuda\")\n",
    "    print('GPU acceleration is available and will be used :-)')\n",
    "else:\n",
    "    DEVICE = torch.device(\"cpu\")\n",
    "    print('GPU is not available. If you are using Google Colab, change the runtime to GPU, otherwise training will '\n",
    "          'take too long.')"
   ]
  },
  {
   "cell_type": "markdown",
   "id": "covered-trading",
   "metadata": {},
   "source": [
    "# Download the data"
   ]
  },
  {
   "cell_type": "code",
   "execution_count": 75,
   "id": "moderate-plane",
   "metadata": {},
   "outputs": [
    {
     "name": "stdout",
     "output_type": "stream",
     "text": [
      "--2021-01-27 21:16:43--  https://s3.amazonaws.com/datasets.huggingface.co/personachat/personachat_self_original.json\n",
      "Resolving s3.amazonaws.com (s3.amazonaws.com)... 52.216.251.30\n",
      "Connecting to s3.amazonaws.com (s3.amazonaws.com)|52.216.251.30|:443... connected.\n",
      "HTTP request sent, awaiting response... 200 OK\n",
      "Length: 209850483 (200M) [application/json]\n",
      "Saving to: ‘./data/personachat_self_original.json.1’\n",
      "\n",
      "personachat_self_or 100%[===================>] 200.13M  5.70MB/s    in 36s     \n",
      "\n",
      "2021-01-27 21:17:19 (5.60 MB/s) - ‘./data/personachat_self_original.json.1’ saved [209850483/209850483]\n",
      "\n"
     ]
    }
   ],
   "source": [
    "!sh download_data.sh"
   ]
  },
  {
   "cell_type": "code",
   "execution_count": 53,
   "id": "numerical-gateway",
   "metadata": {},
   "outputs": [
    {
     "name": "stdout",
     "output_type": "stream",
     "text": [
      "0 lines removed\n",
      "Train set 131,438\n",
      "0 lines removed\n",
      "Test set 7,801\n"
     ]
    }
   ],
   "source": [
    "from data_util import generate_train_validation_test_files\n",
    "\n",
    "generate_train_validation_test_files()"
   ]
  },
  {
   "cell_type": "code",
   "execution_count": 72,
   "id": "limited-criminal",
   "metadata": {},
   "outputs": [
    {
     "name": "stdout",
     "output_type": "stream",
     "text": [
      "Train set size: 13\n",
      "Validation set size: 7\n",
      "Vocab size:  131\n"
     ]
    }
   ],
   "source": [
    "%autoreload 2\n",
    "from data_util import TrainingDataWrapper, save_vocab\n",
    "\n",
    "# Dataset objects\n",
    "dw = TrainingDataWrapper()\n",
    "train_ds, val_ds, test_ds = dw.get_datasets(\n",
    "    train_size=13, # 132000,\n",
    "    val_size=7, # 7801,\n",
    "    use_glove=True\n",
    ")\n",
    "print(f'Train set size: {len(train_ds):,}')\n",
    "print(f'Validation set size: {len(val_ds):,}')\n",
    "print('Vocab size: ', dw.vocab_size)\n",
    "\n",
    "# Save vocab to disk\n",
    "save_vocab(dw.vocab, f'./checkpoints/vocab_{dw.vocab_size}')"
   ]
  },
  {
   "cell_type": "code",
   "execution_count": 73,
   "id": "alternative-attendance",
   "metadata": {
    "scrolled": true
   },
   "outputs": [
    {
     "name": "stdout",
     "output_type": "stream",
     "text": [
      "Example \n",
      "-------\n",
      "tensor([[ 2, 33, 19,  ..., 38,  5,  3],\n",
      "        [ 2, 33, 19,  ...,  1,  1,  1],\n",
      "        [ 2, 33, 19,  ...,  1,  1,  1],\n",
      "        ...,\n",
      "        [ 2, 33, 19,  ...,  1,  1,  1],\n",
      "        [ 2, 33, 19,  ...,  1,  1,  1],\n",
      "        [ 2, 33, 19,  ...,  1,  1,  1]])\n",
      "tensor([166, 140, 123, 116, 105,  82,  84,  55,  52,  33,  23,  10])\n"
     ]
    }
   ],
   "source": [
    "# DataLoader objects\n",
    "train_iter, val_iter, test_iter = dw.get_dataloaders(\n",
    "    train_ds, val_ds, test_ds,\n",
    "    batch_size=2400,\n",
    "    device=DEVICE\n",
    ")\n",
    "\n",
    "x = next(iter(train_iter))\n",
    "print('Example \\n-------')\n",
    "print(x.src[0])\n",
    "print(x.src[1])"
   ]
  },
  {
   "cell_type": "code",
   "execution_count": 74,
   "id": "voluntary-credit",
   "metadata": {},
   "outputs": [
    {
     "name": "stdout",
     "output_type": "stream",
     "text": [
      "The model has 5,353,135 parameters\n"
     ]
    }
   ],
   "source": [
    "%autoreload 2\n",
    "from model import Seq2seqRNN, count_parameters\n",
    "\n",
    "hidden_dim = 256\n",
    "n_layers = 3\n",
    "n_directions_encoder = 2\n",
    "model = Seq2seqRNN(dw.vocab_size,\n",
    "                   dw.embedding_dim,\n",
    "                   hidden_dim,\n",
    "                   n_layers,\n",
    "                   n_directions_encoder,\n",
    "                   dropout=0.2,\n",
    "                   pretrained_embeddings=dw.embeddings,\n",
    "                   freeze_embeddings=False)\n",
    "\n",
    "print(f'The model has {count_parameters(model):,} parameters')"
   ]
  },
  {
   "cell_type": "code",
   "execution_count": 75,
   "id": "gothic-clothing",
   "metadata": {},
   "outputs": [
    {
     "data": {
      "application/vnd.jupyter.widget-view+json": {
       "model_id": "43f1a73e40f7461ebdfa60f8ce55efdf",
       "version_major": 2,
       "version_minor": 0
      },
      "text/plain": [
       "  0%|          | 0/13 [00:00<?, ?it/s]"
      ]
     },
     "metadata": {},
     "output_type": "display_data"
    },
    {
     "data": {
      "application/vnd.jupyter.widget-view+json": {
       "model_id": "863f0919bafe4755acc0834ff4c54184",
       "version_major": 2,
       "version_minor": 0
      },
      "text/plain": [
       "  0%|          | 0/7 [00:00<?, ?it/s]"
      ]
     },
     "metadata": {},
     "output_type": "display_data"
    },
    {
     "name": "stdout",
     "output_type": "stream",
     "text": [
      "Epoch: 000, Train loss: 4.8756, Val loss: 4.8790, Train ppl: 131.1, Val ppl: 131.5\n",
      "checkpoints/bb3317a8-6539-11eb-be89-acbc32b70c09/0.ckpt was saved\n",
      "checkpoints/bb3317a8-6539-11eb-be89-acbc32b70c09/params.json file was saved\n"
     ]
    },
    {
     "data": {
      "application/vnd.jupyter.widget-view+json": {
       "model_id": "3923b97578f34a98931eff7732803a29",
       "version_major": 2,
       "version_minor": 0
      },
      "text/plain": [
       "  0%|          | 0/13 [00:00<?, ?it/s]"
      ]
     },
     "metadata": {},
     "output_type": "display_data"
    },
    {
     "data": {
      "application/vnd.jupyter.widget-view+json": {
       "model_id": "b5ec98a9380d4ebdaaaa227e515bfacb",
       "version_major": 2,
       "version_minor": 0
      },
      "text/plain": [
       "  0%|          | 0/7 [00:00<?, ?it/s]"
      ]
     },
     "metadata": {},
     "output_type": "display_data"
    },
    {
     "name": "stdout",
     "output_type": "stream",
     "text": [
      "Epoch: 001, Train loss: 4.8641, Val loss: 4.8548, Train ppl: 129.5, Val ppl: 128.4\n",
      "checkpoints/bb3317a8-6539-11eb-be89-acbc32b70c09/1.ckpt was saved\n",
      "checkpoints/bb3317a8-6539-11eb-be89-acbc32b70c09/params.json file was saved\n"
     ]
    }
   ],
   "source": [
    "%autoreload 2\n",
    "from train import Seq2seqRNNTrainer\n",
    "\n",
    "trainer = Seq2seqRNNTrainer(model,\n",
    "                            train_iter,\n",
    "                            val_iter,\n",
    "                            learning_rate=3e-4,\n",
    "                            pad_token_id=dw.pad_token_id,\n",
    "                            gradient_clip=99999,\n",
    "                            teacher_forcing=0.5,\n",
    "#                             checkpoint_dir='/content/drive/MyDrive/chatbot-course/')\n",
    "                            checkpoint_dir='./checkpoints')\n",
    "n_epochs = 2\n",
    "trainer.train(n_epochs)"
   ]
  },
  {
   "cell_type": "code",
   "execution_count": 79,
   "id": "abstract-beijing",
   "metadata": {},
   "outputs": [
    {
     "data": {
      "application/vnd.jupyter.widget-view+json": {
       "model_id": "d20d8daafb46406290938dde6e72c47d",
       "version_major": 2,
       "version_minor": 0
      },
      "text/plain": [
       "  0%|          | 0/13 [00:00<?, ?it/s]"
      ]
     },
     "metadata": {},
     "output_type": "display_data"
    },
    {
     "data": {
      "application/vnd.jupyter.widget-view+json": {
       "model_id": "94710ac9a8834adbbf64c336b548fe4c",
       "version_major": 2,
       "version_minor": 0
      },
      "text/plain": [
       "  0%|          | 0/7 [00:00<?, ?it/s]"
      ]
     },
     "metadata": {},
     "output_type": "display_data"
    },
    {
     "name": "stdout",
     "output_type": "stream",
     "text": [
      "Epoch: 000, Train loss: 4.8491, Val loss: 4.8213, Train ppl: 127.6, Val ppl: 124.1\n",
      "checkpoints/bb3317a8-6539-11eb-be89-acbc32b70c09/1.ckpt was saved\n",
      "checkpoints/bb3317a8-6539-11eb-be89-acbc32b70c09/params.json file was saved\n"
     ]
    },
    {
     "data": {
      "application/vnd.jupyter.widget-view+json": {
       "model_id": "a21ee11de5f145d6b78482e91f936d81",
       "version_major": 2,
       "version_minor": 0
      },
      "text/plain": [
       "  0%|          | 0/13 [00:00<?, ?it/s]"
      ]
     },
     "metadata": {},
     "output_type": "display_data"
    },
    {
     "data": {
      "application/vnd.jupyter.widget-view+json": {
       "model_id": "b474cf07022541239f645ab4896df516",
       "version_major": 2,
       "version_minor": 0
      },
      "text/plain": [
       "  0%|          | 0/7 [00:00<?, ?it/s]"
      ]
     },
     "metadata": {},
     "output_type": "display_data"
    },
    {
     "name": "stdout",
     "output_type": "stream",
     "text": [
      "Epoch: 001, Train loss: 4.8293, Val loss: 4.7955, Train ppl: 125.1, Val ppl: 121.0\n",
      "checkpoints/bb3317a8-6539-11eb-be89-acbc32b70c09/2.ckpt was saved\n",
      "checkpoints/bb3317a8-6539-11eb-be89-acbc32b70c09/params.json file was saved\n"
     ]
    }
   ],
   "source": [
    "trainer.load_checkpoint(run_id='bb3317a8-6539-11eb-be89-acbc32b70c09', epoch=1)\n",
    "\n",
    "n_epochs = 2\n",
    "trainer.train(n_epochs)"
   ]
  },
  {
   "cell_type": "code",
   "execution_count": 80,
   "id": "korean-projection",
   "metadata": {},
   "outputs": [
    {
     "data": {
      "application/vnd.jupyter.widget-view+json": {
       "model_id": "43b9f590ea2b47979f4c74c12093e6a6",
       "version_major": 2,
       "version_minor": 0
      },
      "text/plain": [
       "  0%|          | 0/13 [00:00<?, ?it/s]"
      ]
     },
     "metadata": {},
     "output_type": "display_data"
    },
    {
     "data": {
      "application/vnd.jupyter.widget-view+json": {
       "model_id": "011a0a8c628f45d1b6eef0795e705ca7",
       "version_major": 2,
       "version_minor": 0
      },
      "text/plain": [
       "  0%|          | 0/7 [00:00<?, ?it/s]"
      ]
     },
     "metadata": {},
     "output_type": "display_data"
    },
    {
     "name": "stdout",
     "output_type": "stream",
     "text": [
      "Epoch: 000, Train loss: 4.8062, Val loss: 4.7484, Train ppl: 122.3, Val ppl: 115.4\n",
      "checkpoints/bb3317a8-6539-11eb-be89-acbc32b70c09/3.ckpt was saved\n",
      "checkpoints/bb3317a8-6539-11eb-be89-acbc32b70c09/params.json file was saved\n"
     ]
    },
    {
     "data": {
      "application/vnd.jupyter.widget-view+json": {
       "model_id": "f63999d18741476dab8b4b275e445eef",
       "version_major": 2,
       "version_minor": 0
      },
      "text/plain": [
       "  0%|          | 0/13 [00:00<?, ?it/s]"
      ]
     },
     "metadata": {},
     "output_type": "display_data"
    },
    {
     "data": {
      "application/vnd.jupyter.widget-view+json": {
       "model_id": "32947cbbbead4de1a8567692c2229731",
       "version_major": 2,
       "version_minor": 0
      },
      "text/plain": [
       "  0%|          | 0/7 [00:00<?, ?it/s]"
      ]
     },
     "metadata": {},
     "output_type": "display_data"
    },
    {
     "name": "stdout",
     "output_type": "stream",
     "text": [
      "Epoch: 001, Train loss: 4.7585, Val loss: 4.6679, Train ppl: 116.6, Val ppl: 106.5\n",
      "checkpoints/bb3317a8-6539-11eb-be89-acbc32b70c09/4.ckpt was saved\n",
      "checkpoints/bb3317a8-6539-11eb-be89-acbc32b70c09/params.json file was saved\n"
     ]
    }
   ],
   "source": [
    "n_epochs = 2\n",
    "trainer.train(n_epochs)"
   ]
  },
  {
   "cell_type": "code",
   "execution_count": null,
   "id": "hindu-albany",
   "metadata": {},
   "outputs": [],
   "source": []
  }
 ],
 "metadata": {
  "kernelspec": {
   "display_name": "Python 3",
   "language": "python",
   "name": "python3"
  },
  "language_info": {
   "codemirror_mode": {
    "name": "ipython",
    "version": 3
   },
   "file_extension": ".py",
   "mimetype": "text/x-python",
   "name": "python",
   "nbconvert_exporter": "python",
   "pygments_lexer": "ipython3",
   "version": "3.6.9"
  }
 },
 "nbformat": 4,
 "nbformat_minor": 5
}
