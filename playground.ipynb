{
 "cells": [
  {
   "cell_type": "code",
   "execution_count": 19,
   "id": "nervous-rough",
   "metadata": {},
   "outputs": [],
   "source": [
    "%load_ext autoreload\n",
    "%autoreload 2"
   ]
  },
  {
   "cell_type": "code",
   "execution_count": 4,
   "id": "vanilla-comparison",
   "metadata": {},
   "outputs": [
    {
     "name": "stdout",
     "output_type": "stream",
     "text": [
      "GPU is not available. If you are using Google Colab, change the runtime to GPU, otherwise training will take too long.\n"
     ]
    }
   ],
   "source": [
    "import torch\n",
    "if torch.cuda.is_available():\n",
    "    DEVICE = torch.device(\"cuda\")\n",
    "    print('GPU acceleration is available and will be used :-)')\n",
    "else:\n",
    "    DEVICE = torch.device(\"cpu\")\n",
    "    print('GPU is not available. If you are using Google Colab, change the runtime to GPU, otherwise training will '\n",
    "          'take too long.')"
   ]
  },
  {
   "cell_type": "code",
   "execution_count": 75,
   "id": "moderate-plane",
   "metadata": {},
   "outputs": [
    {
     "name": "stdout",
     "output_type": "stream",
     "text": [
      "--2021-01-27 21:16:43--  https://s3.amazonaws.com/datasets.huggingface.co/personachat/personachat_self_original.json\n",
      "Resolving s3.amazonaws.com (s3.amazonaws.com)... 52.216.251.30\n",
      "Connecting to s3.amazonaws.com (s3.amazonaws.com)|52.216.251.30|:443... connected.\n",
      "HTTP request sent, awaiting response... 200 OK\n",
      "Length: 209850483 (200M) [application/json]\n",
      "Saving to: ‘./data/personachat_self_original.json.1’\n",
      "\n",
      "personachat_self_or 100%[===================>] 200.13M  5.70MB/s    in 36s     \n",
      "\n",
      "2021-01-27 21:17:19 (5.60 MB/s) - ‘./data/personachat_self_original.json.1’ saved [209850483/209850483]\n",
      "\n"
     ]
    }
   ],
   "source": [
    "!sh download_data.sh"
   ]
  },
  {
   "cell_type": "code",
   "execution_count": 65,
   "id": "numerical-gateway",
   "metadata": {},
   "outputs": [
    {
     "name": "stdout",
     "output_type": "stream",
     "text": [
      "0 lines removed\n",
      "Train set 131,438\n",
      "0 lines removed\n",
      "Test set 7,801\n"
     ]
    }
   ],
   "source": [
    "from data_util import generate_train_validation_test_files\n",
    "\n",
    "generate_train_validation_test_files()"
   ]
  },
  {
   "cell_type": "code",
   "execution_count": 66,
   "id": "limited-criminal",
   "metadata": {},
   "outputs": [
    {
     "name": "stdout",
     "output_type": "stream",
     "text": [
      "Train set size: 99\n",
      "Validation set size: 999\n",
      "Vocab size:  500\n"
     ]
    }
   ],
   "source": [
    "from data_util import DataWrapper\n",
    "\n",
    "# Dataset objects\n",
    "dw = DataWrapper()\n",
    "train_ds, val_ds, test_ds = dw.get_datasets(\n",
    "    train_size=99,\n",
    "    val_size=99,\n",
    "    use_glove=True\n",
    ")\n",
    "print(f'Train set size: {len(train_ds):,}')\n",
    "print(f'Validation set size: {len(validation_ds):,}')\n",
    "print('Vocab size: ', dw.vocab_size)"
   ]
  },
  {
   "cell_type": "code",
   "execution_count": 67,
   "id": "alternative-attendance",
   "metadata": {},
   "outputs": [
    {
     "name": "stdout",
     "output_type": "stream",
     "text": [
      "Example \n",
      "-------\n",
      "tensor([[  2,  21,  14,  ...,   1,   1,   1],\n",
      "        [  2, 130,  10,  ...,   5,   3,   1],\n",
      "        [  2,  34,  21,  ...,  61, 154,   3],\n",
      "        ...,\n",
      "        [  2,  63,  10,  ...,   1,   1,   1],\n",
      "        [  2,  34,  21,  ...,   1,   1,   1],\n",
      "        [  2,  63,   5,  ...,   1,   1,   1]])\n",
      "tensor([50, 62, 63, 62, 55, 55, 52, 51, 51, 48, 48, 44, 43, 42, 39, 34, 25, 33,\n",
      "        33, 32, 30, 29, 26, 29, 28, 23, 19, 16,  7, 16, 10, 10, 10, 11,  9,  8,\n",
      "         9,  7,  8])\n"
     ]
    }
   ],
   "source": [
    "# DataLoader objects\n",
    "train_iter, val_iter, test_iter = dw.get_dataloaders(\n",
    "    train_ds, val_ds, test_ds,\n",
    "    batch_size=2400,\n",
    "    device=DEVICE\n",
    ")\n",
    "\n",
    "x = next(iter(train_iter))\n",
    "print('Example \\n-------')\n",
    "print(x.src[0])\n",
    "print(x.src[1])"
   ]
  },
  {
   "cell_type": "code",
   "execution_count": 68,
   "id": "voluntary-credit",
   "metadata": {},
   "outputs": [],
   "source": [
    "%autoreload 2\n",
    "from model import Seq2seqRNN\n",
    "\n",
    "vocab_size = dw.vocab_size\n",
    "embedding_dim = dw.embedding_dim\n",
    "hidden_dim = 256\n",
    "n_layers = 3\n",
    "n_directions_encoder = 2\n",
    "model = Seq2seqRNN(vocab_size,\n",
    "                   embedding_dim,\n",
    "                   hidden_dim,\n",
    "                   n_layers,\n",
    "                   n_directions_encoder,\n",
    "                   dropout=0.2,\n",
    "                   pretrained_embeddings=dw.embeddings,\n",
    "                   freeze_embeddings=False)"
   ]
  },
  {
   "cell_type": "code",
   "execution_count": 69,
   "id": "unlikely-caribbean",
   "metadata": {},
   "outputs": [
    {
     "name": "stdout",
     "output_type": "stream",
     "text": [
      "The model has 5,484,868 parameters\n"
     ]
    }
   ],
   "source": [
    "%autoreload 2\n",
    "from model import count_parameters\n",
    "\n",
    "print(f'The model has {count_parameters(model):,} parameters')"
   ]
  },
  {
   "cell_type": "code",
   "execution_count": 72,
   "id": "gothic-clothing",
   "metadata": {},
   "outputs": [],
   "source": [
    "from train import Seq2seqRNNTrainer\n",
    "\n",
    "trainer = Seq2seqRNNTrainer(model,\n",
    "                            train_iter,\n",
    "                            val_iter,\n",
    "                            learning_rate=3e-4,\n",
    "                            pad_token_id=dw.pad_token_id,\n",
    "                            gradient_clip=99999,\n",
    "                            teacher_forcing=0.5)"
   ]
  },
  {
   "cell_type": "code",
   "execution_count": 74,
   "id": "visible-affect",
   "metadata": {},
   "outputs": [
    {
     "data": {
      "application/vnd.jupyter.widget-view+json": {
       "model_id": "2095d65e168147109d264a406374a284",
       "version_major": 2,
       "version_minor": 0
      },
      "text/plain": [
       "  0%|          | 0/99 [00:00<?, ?it/s]"
      ]
     },
     "metadata": {},
     "output_type": "display_data"
    },
    {
     "name": "stdout",
     "output_type": "stream",
     "text": [
      "Epoch 0: train | Loss:   5.978 | Perplexity: 394.618\n"
     ]
    },
    {
     "data": {
      "application/vnd.jupyter.widget-view+json": {
       "model_id": "78f706a5d54e4140b0cd7646938365ac",
       "version_major": 2,
       "version_minor": 0
      },
      "text/plain": [
       "  0%|          | 0/99 [00:00<?, ?it/s]"
      ]
     },
     "metadata": {},
     "output_type": "display_data"
    },
    {
     "name": "stdout",
     "output_type": "stream",
     "text": [
      "Epoch 0: test | Loss:   5.479 | Perplexity: 239.707\n"
     ]
    },
    {
     "data": {
      "application/vnd.jupyter.widget-view+json": {
       "model_id": "aac07c740b674996b29f6430c241f0bf",
       "version_major": 2,
       "version_minor": 0
      },
      "text/plain": [
       "  0%|          | 0/99 [00:00<?, ?it/s]"
      ]
     },
     "metadata": {},
     "output_type": "display_data"
    },
    {
     "name": "stdout",
     "output_type": "stream",
     "text": [
      "Epoch 1: train | Loss:   5.344 | Perplexity: 209.377\n"
     ]
    },
    {
     "data": {
      "application/vnd.jupyter.widget-view+json": {
       "model_id": "f8bbb131dae04177ac9eb01c6a096657",
       "version_major": 2,
       "version_minor": 0
      },
      "text/plain": [
       "  0%|          | 0/99 [00:00<?, ?it/s]"
      ]
     },
     "metadata": {},
     "output_type": "display_data"
    },
    {
     "name": "stdout",
     "output_type": "stream",
     "text": [
      "Epoch 1: test | Loss:   4.787 | Perplexity: 119.939\n"
     ]
    },
    {
     "data": {
      "application/vnd.jupyter.widget-view+json": {
       "model_id": "7dc2a5955fa844198bfc4d5389aaed6e",
       "version_major": 2,
       "version_minor": 0
      },
      "text/plain": [
       "  0%|          | 0/99 [00:00<?, ?it/s]"
      ]
     },
     "metadata": {},
     "output_type": "display_data"
    },
    {
     "name": "stdout",
     "output_type": "stream",
     "text": [
      "Epoch 2: train | Loss:   4.947 | Perplexity: 140.698\n"
     ]
    },
    {
     "data": {
      "application/vnd.jupyter.widget-view+json": {
       "model_id": "5343e587bba24f37a165a05cb7fca886",
       "version_major": 2,
       "version_minor": 0
      },
      "text/plain": [
       "  0%|          | 0/99 [00:00<?, ?it/s]"
      ]
     },
     "metadata": {},
     "output_type": "display_data"
    },
    {
     "name": "stdout",
     "output_type": "stream",
     "text": [
      "Epoch 2: test | Loss:   4.421 | Perplexity:  83.168\n"
     ]
    },
    {
     "data": {
      "application/vnd.jupyter.widget-view+json": {
       "model_id": "a2c1e01cd37443cba88c8a7ef127bde7",
       "version_major": 2,
       "version_minor": 0
      },
      "text/plain": [
       "  0%|          | 0/99 [00:00<?, ?it/s]"
      ]
     },
     "metadata": {},
     "output_type": "display_data"
    },
    {
     "name": "stdout",
     "output_type": "stream",
     "text": [
      "Epoch 3: train | Loss:   4.827 | Perplexity: 124.801\n"
     ]
    },
    {
     "data": {
      "application/vnd.jupyter.widget-view+json": {
       "model_id": "0036eedc6cef45778614fac7c3f7f048",
       "version_major": 2,
       "version_minor": 0
      },
      "text/plain": [
       "  0%|          | 0/99 [00:00<?, ?it/s]"
      ]
     },
     "metadata": {},
     "output_type": "display_data"
    },
    {
     "name": "stdout",
     "output_type": "stream",
     "text": [
      "Epoch 3: test | Loss:   4.225 | Perplexity:  68.407\n"
     ]
    },
    {
     "data": {
      "application/vnd.jupyter.widget-view+json": {
       "model_id": "92a4889f1673432e976ddfcf15075fa0",
       "version_major": 2,
       "version_minor": 0
      },
      "text/plain": [
       "  0%|          | 0/99 [00:00<?, ?it/s]"
      ]
     },
     "metadata": {},
     "output_type": "display_data"
    },
    {
     "name": "stdout",
     "output_type": "stream",
     "text": [
      "Epoch 4: train | Loss:   4.753 | Perplexity: 115.942\n"
     ]
    },
    {
     "data": {
      "application/vnd.jupyter.widget-view+json": {
       "model_id": "17c8cebae601400096ce557e227e47b9",
       "version_major": 2,
       "version_minor": 0
      },
      "text/plain": [
       "  0%|          | 0/99 [00:00<?, ?it/s]"
      ]
     },
     "metadata": {},
     "output_type": "display_data"
    },
    {
     "name": "stdout",
     "output_type": "stream",
     "text": [
      "Epoch 4: test | Loss:   4.168 | Perplexity:  64.607\n"
     ]
    },
    {
     "data": {
      "application/vnd.jupyter.widget-view+json": {
       "model_id": "80fcb8ae56a74c80a3e2dcb6f676b399",
       "version_major": 2,
       "version_minor": 0
      },
      "text/plain": [
       "  0%|          | 0/99 [00:00<?, ?it/s]"
      ]
     },
     "metadata": {},
     "output_type": "display_data"
    },
    {
     "name": "stdout",
     "output_type": "stream",
     "text": [
      "Epoch 5: train | Loss:   4.715 | Perplexity: 111.656\n"
     ]
    },
    {
     "data": {
      "application/vnd.jupyter.widget-view+json": {
       "model_id": "3a68d3f4d1d44daa8afdb72fa974b715",
       "version_major": 2,
       "version_minor": 0
      },
      "text/plain": [
       "  0%|          | 0/99 [00:00<?, ?it/s]"
      ]
     },
     "metadata": {},
     "output_type": "display_data"
    },
    {
     "name": "stdout",
     "output_type": "stream",
     "text": [
      "Epoch 5: test | Loss:   4.164 | Perplexity:  64.303\n"
     ]
    },
    {
     "data": {
      "application/vnd.jupyter.widget-view+json": {
       "model_id": "12282219c2614dc2b103f66272f42956",
       "version_major": 2,
       "version_minor": 0
      },
      "text/plain": [
       "  0%|          | 0/99 [00:00<?, ?it/s]"
      ]
     },
     "metadata": {},
     "output_type": "display_data"
    },
    {
     "name": "stdout",
     "output_type": "stream",
     "text": [
      "Epoch 6: train | Loss:   4.691 | Perplexity: 108.990\n"
     ]
    },
    {
     "data": {
      "application/vnd.jupyter.widget-view+json": {
       "model_id": "7cf9e92dd3ac494f8b1490d8f32cdb0e",
       "version_major": 2,
       "version_minor": 0
      },
      "text/plain": [
       "  0%|          | 0/99 [00:00<?, ?it/s]"
      ]
     },
     "metadata": {},
     "output_type": "display_data"
    },
    {
     "name": "stdout",
     "output_type": "stream",
     "text": [
      "Epoch 6: test | Loss:   4.178 | Perplexity:  65.226\n"
     ]
    },
    {
     "data": {
      "application/vnd.jupyter.widget-view+json": {
       "model_id": "67ab2c10d3c841f6a0228e5caea175f7",
       "version_major": 2,
       "version_minor": 0
      },
      "text/plain": [
       "  0%|          | 0/99 [00:00<?, ?it/s]"
      ]
     },
     "metadata": {},
     "output_type": "display_data"
    },
    {
     "name": "stdout",
     "output_type": "stream",
     "text": [
      "Epoch 7: train | Loss:   4.659 | Perplexity: 105.574\n"
     ]
    },
    {
     "data": {
      "application/vnd.jupyter.widget-view+json": {
       "model_id": "a4d9e3b9fc194b2ca0fbfe7933642460",
       "version_major": 2,
       "version_minor": 0
      },
      "text/plain": [
       "  0%|          | 0/99 [00:00<?, ?it/s]"
      ]
     },
     "metadata": {},
     "output_type": "display_data"
    },
    {
     "name": "stdout",
     "output_type": "stream",
     "text": [
      "Epoch 7: test | Loss:   4.163 | Perplexity:  64.246\n"
     ]
    },
    {
     "data": {
      "application/vnd.jupyter.widget-view+json": {
       "model_id": "72c93d1f12ea4410a717d976be79a6b7",
       "version_major": 2,
       "version_minor": 0
      },
      "text/plain": [
       "  0%|          | 0/99 [00:00<?, ?it/s]"
      ]
     },
     "metadata": {},
     "output_type": "display_data"
    },
    {
     "name": "stdout",
     "output_type": "stream",
     "text": [
      "Epoch 8: train | Loss:   4.645 | Perplexity: 104.068\n"
     ]
    },
    {
     "data": {
      "application/vnd.jupyter.widget-view+json": {
       "model_id": "61dc04ef5d5c4efca7c61618ce09cb38",
       "version_major": 2,
       "version_minor": 0
      },
      "text/plain": [
       "  0%|          | 0/99 [00:00<?, ?it/s]"
      ]
     },
     "metadata": {},
     "output_type": "display_data"
    },
    {
     "name": "stdout",
     "output_type": "stream",
     "text": [
      "Epoch 8: test | Loss:   4.160 | Perplexity:  64.084\n"
     ]
    },
    {
     "data": {
      "application/vnd.jupyter.widget-view+json": {
       "model_id": "4cbb68be0b7e4c0693ced595924aa176",
       "version_major": 2,
       "version_minor": 0
      },
      "text/plain": [
       "  0%|          | 0/99 [00:00<?, ?it/s]"
      ]
     },
     "metadata": {},
     "output_type": "display_data"
    },
    {
     "name": "stdout",
     "output_type": "stream",
     "text": [
      "Epoch 9: train | Loss:   4.635 | Perplexity: 103.048\n"
     ]
    },
    {
     "data": {
      "application/vnd.jupyter.widget-view+json": {
       "model_id": "76579aac918646d9a0f8c23bb2c17626",
       "version_major": 2,
       "version_minor": 0
      },
      "text/plain": [
       "  0%|          | 0/99 [00:00<?, ?it/s]"
      ]
     },
     "metadata": {},
     "output_type": "display_data"
    },
    {
     "name": "stdout",
     "output_type": "stream",
     "text": [
      "Epoch 9: test | Loss:   4.156 | Perplexity:  63.832\n"
     ]
    }
   ],
   "source": [
    "n_epochs = 10\n",
    "for epoch in range(n_epochs):\n",
    "    trainer.train(epoch)\n",
    "    trainer.validate(epoch)"
   ]
  },
  {
   "cell_type": "code",
   "execution_count": null,
   "id": "abstract-beijing",
   "metadata": {},
   "outputs": [],
   "source": []
  }
 ],
 "metadata": {
  "kernelspec": {
   "display_name": "Python 3",
   "language": "python",
   "name": "python3"
  },
  "language_info": {
   "codemirror_mode": {
    "name": "ipython",
    "version": 3
   },
   "file_extension": ".py",
   "mimetype": "text/x-python",
   "name": "python",
   "nbconvert_exporter": "python",
   "pygments_lexer": "ipython3",
   "version": "3.7.9"
  }
 },
 "nbformat": 4,
 "nbformat_minor": 5
}
