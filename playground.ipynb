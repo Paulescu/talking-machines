{
 "cells": [
  {
   "cell_type": "markdown",
   "id": "younger-quarterly",
   "metadata": {},
   "source": [
    "# Setup environment"
   ]
  },
  {
   "cell_type": "code",
   "execution_count": 2,
   "id": "streaming-armstrong",
   "metadata": {},
   "outputs": [],
   "source": [
    "# %%bash\n",
    "# git clone https://github.com/Paulescu/talking-machines.git\n",
    "# mv talking-machines/* .\n",
    "# rm -r talking-machines\n",
    "# pip install -q -r requirements_py3.6.txt"
   ]
  },
  {
   "cell_type": "code",
   "execution_count": 1,
   "id": "nervous-rough",
   "metadata": {},
   "outputs": [],
   "source": [
    "%load_ext autoreload\n",
    "%autoreload 2"
   ]
  },
  {
   "cell_type": "code",
   "execution_count": 5,
   "id": "quantitative-alexander",
   "metadata": {},
   "outputs": [
    {
     "name": "stdout",
     "output_type": "stream",
     "text": [
      "Running in local\n"
     ]
    }
   ],
   "source": [
    "from pathlib import Path\n",
    "\n",
    "if 'google.colab' in str(get_ipython()):\n",
    "    print('Running in Colab')\n",
    "    DATA_DIR = Path('/content/data')\n",
    "    ARTIFACTS_DIR = Path('/content/drive/MyDrive/chatbot-course')\n",
    "    VECTORS_CACHE_DIR = ARTIFACTS_DIR\n",
    "#     CURRENT_DIR = Path('/content')\n",
    "    \n",
    "    # mount google drive\n",
    "    from google.colab import drive\n",
    "    drive.mount('/content/drive')\n",
    "else:\n",
    "    print('Running in local')\n",
    "    DATA_DIR = Path('./data')\n",
    "    ARTIFACTS_DIR = Path('./artifacts')\n",
    "    VECTORS_CACHE_DIR = Path('./.vector_cache')\n",
    "#     CURRENT_DIR = Path('./')"
   ]
  },
  {
   "cell_type": "code",
   "execution_count": 6,
   "id": "vanilla-comparison",
   "metadata": {},
   "outputs": [
    {
     "name": "stdout",
     "output_type": "stream",
     "text": [
      "GPU is not available. If you are using Google Colab, change the runtime to GPU, otherwise training will take too long.\n"
     ]
    }
   ],
   "source": [
    "import torch\n",
    "if torch.cuda.is_available():\n",
    "    DEVICE = torch.device(\"cuda\")\n",
    "    print('GPU acceleration is available and will be used :-)')\n",
    "else:\n",
    "    DEVICE = torch.device(\"cpu\")\n",
    "    print('GPU is not available. If you are using Google Colab, change the runtime to GPU, otherwise training will '\n",
    "          'take too long.')"
   ]
  },
  {
   "cell_type": "markdown",
   "id": "subtle-valve",
   "metadata": {},
   "source": [
    "# Download the data"
   ]
  },
  {
   "cell_type": "code",
   "execution_count": 75,
   "id": "moderate-plane",
   "metadata": {},
   "outputs": [
    {
     "name": "stdout",
     "output_type": "stream",
     "text": [
      "--2021-01-27 21:16:43--  https://s3.amazonaws.com/datasets.huggingface.co/personachat/personachat_self_original.json\n",
      "Resolving s3.amazonaws.com (s3.amazonaws.com)... 52.216.251.30\n",
      "Connecting to s3.amazonaws.com (s3.amazonaws.com)|52.216.251.30|:443... connected.\n",
      "HTTP request sent, awaiting response... 200 OK\n",
      "Length: 209850483 (200M) [application/json]\n",
      "Saving to: ‘./data/personachat_self_original.json.1’\n",
      "\n",
      "personachat_self_or 100%[===================>] 200.13M  5.70MB/s    in 36s     \n",
      "\n",
      "2021-01-27 21:17:19 (5.60 MB/s) - ‘./data/personachat_self_original.json.1’ saved [209850483/209850483]\n",
      "\n"
     ]
    }
   ],
   "source": [
    "!sh download_data.sh"
   ]
  },
  {
   "cell_type": "code",
   "execution_count": 8,
   "id": "numerical-gateway",
   "metadata": {},
   "outputs": [
    {
     "data": {
      "application/vnd.jupyter.widget-view+json": {
       "model_id": "4584c214d3724752bfd8ad1a65de5d31",
       "version_major": 2,
       "version_minor": 0
      },
      "text/plain": [
       "  0%|          | 0/17878 [00:00<?, ?it/s]"
      ]
     },
     "metadata": {},
     "output_type": "display_data"
    },
    {
     "name": "stdout",
     "output_type": "stream",
     "text": [
      "0 lines removed\n",
      "Train set 131,438\n"
     ]
    },
    {
     "data": {
      "application/vnd.jupyter.widget-view+json": {
       "model_id": "4c1bb533b7a348d583d5ded2f0682841",
       "version_major": 2,
       "version_minor": 0
      },
      "text/plain": [
       "  0%|          | 0/1000 [00:00<?, ?it/s]"
      ]
     },
     "metadata": {},
     "output_type": "display_data"
    },
    {
     "name": "stdout",
     "output_type": "stream",
     "text": [
      "0 lines removed\n",
      "Test set 7,801\n",
      "Saved /Users/paulabartabajo/src/online-courses/advanced-nlp-chatbot/data/train.csv\n",
      "Saved /Users/paulabartabajo/src/online-courses/advanced-nlp-chatbot/data/val.csv\n",
      "Saved /Users/paulabartabajo/src/online-courses/advanced-nlp-chatbot/data/test.csv\n"
     ]
    }
   ],
   "source": [
    "%autoreload 2\n",
    "from utils.data import generate_train_validation_test_files\n",
    "\n",
    "generate_train_validation_test_files(\n",
    "    file=DATA_DIR/'personachat_self_original.json',\n",
    "    autocorrect=False\n",
    ")"
   ]
  },
  {
   "cell_type": "code",
   "execution_count": 9,
   "id": "respected-connecticut",
   "metadata": {},
   "outputs": [
    {
     "name": "stdout",
     "output_type": "stream",
     "text": [
      "Vocab size: 477\n"
     ]
    }
   ],
   "source": [
    "%autoreload 2\n",
    "from utils.data import get_datasets_and_vocab\n",
    "\n",
    "train_dataset, validation_dataset, test_dataset, vocab = get_datasets_and_vocab(\n",
    "    path_to_files=DATA_DIR,\n",
    "    train='train.csv',\n",
    "    validation='val.csv',\n",
    "    test='test.csv',\n",
    "    train_size=100,\n",
    "    validation_size=100,\n",
    "    use_glove_vectors=True,\n",
    "    vectors_cache=VECTORS_CACHE_DIR,\n",
    ")\n",
    "\n",
    "from utils.serialize import save_vocab\n",
    "save_vocab(vocab, Path(ARTIFACTS_DIR) / f'vocab_{len(vocab)}')\n",
    "print(f'Vocab size: {len(vocab):,}')"
   ]
  },
  {
   "cell_type": "code",
   "execution_count": 43,
   "id": "aboriginal-gravity",
   "metadata": {},
   "outputs": [
    {
     "data": {
      "text/plain": [
       "Counter({'hi': 66,\n",
       "         ',': 222,\n",
       "         'how': 90,\n",
       "         'are': 146,\n",
       "         'you': 321,\n",
       "         'doing': 46,\n",
       "         '?': 248,\n",
       "         'i': 720,\n",
       "         \"'\": 192,\n",
       "         'm': 106,\n",
       "         'getting': 12,\n",
       "         'ready': 12,\n",
       "         'to': 216,\n",
       "         'do': 190,\n",
       "         'some': 38,\n",
       "         'cheetah': 7,\n",
       "         'chasing': 7,\n",
       "         'stay': 7,\n",
       "         'in': 80,\n",
       "         'shape': 7,\n",
       "         '.': 1283,\n",
       "         'must': 7,\n",
       "         'be': 19,\n",
       "         'very': 22,\n",
       "         'fast': 7,\n",
       "         'hunting': 14,\n",
       "         'is': 112,\n",
       "         'one': 12,\n",
       "         'of': 77,\n",
       "         'my': 171,\n",
       "         'favorite': 44,\n",
       "         'hobbies': 20,\n",
       "         'am': 120,\n",
       "         '!': 91,\n",
       "         'for': 82,\n",
       "         'hobby': 16,\n",
       "         'like': 90,\n",
       "         'canning': 10,\n",
       "         'or': 29,\n",
       "         'whittling': 6,\n",
       "         'also': 29,\n",
       "         'remodel': 6,\n",
       "         'homes': 7,\n",
       "         'when': 25,\n",
       "         'not': 57,\n",
       "         'out': 9,\n",
       "         'bow': 6,\n",
       "         'that': 98,\n",
       "         's': 28,\n",
       "         'neat': 5,\n",
       "         'was': 27,\n",
       "         'high': 5,\n",
       "         'school': 21,\n",
       "         'placed': 5,\n",
       "         '6th': 5,\n",
       "         '100m': 5,\n",
       "         'dash': 5,\n",
       "         'awesome': 14,\n",
       "         'have': 104,\n",
       "         'a': 287,\n",
       "         'season': 19,\n",
       "         'time': 39,\n",
       "         'year': 9,\n",
       "         'but': 60,\n",
       "         'meat': 10,\n",
       "         'since': 11,\n",
       "         'all': 18,\n",
       "         'eat': 15,\n",
       "         'exclusively': 4,\n",
       "         'what': 96,\n",
       "         'your': 46,\n",
       "         'would': 11,\n",
       "         'say': 3,\n",
       "         'its': 6,\n",
       "         'prime': 3,\n",
       "         'rib': 3,\n",
       "         'any': 19,\n",
       "         'foods': 3,\n",
       "         'chicken': 3,\n",
       "         'macaroni': 3,\n",
       "         'and': 94,\n",
       "         'cheese': 3,\n",
       "         'anything': 13,\n",
       "         'planned': 2,\n",
       "         'today': 53,\n",
       "         'think': 4,\n",
       "         'going': 26,\n",
       "         'watch': 22,\n",
       "         'football': 24,\n",
       "         'will': 6,\n",
       "         'can': 40,\n",
       "         'jam': 1,\n",
       "         'play': 11,\n",
       "         'footfall': 1,\n",
       "         'fun': 14,\n",
       "         'spending': 7,\n",
       "         'with': 39,\n",
       "         '4': 7,\n",
       "         'sisters': 13,\n",
       "         'up': 36,\n",
       "         'wow': 13,\n",
       "         'four': 6,\n",
       "         'just': 62,\n",
       "         'watching': 16,\n",
       "         'game': 13,\n",
       "         'thrones': 6,\n",
       "         'good': 29,\n",
       "         'show': 11,\n",
       "         'while': 21,\n",
       "         'drinking': 6,\n",
       "         'iced': 6,\n",
       "         'tea': 6,\n",
       "         'agree': 9,\n",
       "         'living': 25,\n",
       "         'researcher': 5,\n",
       "         'researching': 5,\n",
       "         'the': 109,\n",
       "         'fact': 5,\n",
       "         'mermaids': 6,\n",
       "         'real': 5,\n",
       "         'interesting': 7,\n",
       "         'website': 4,\n",
       "         'designer': 4,\n",
       "         'pretty': 5,\n",
       "         'much': 19,\n",
       "         'spend': 8,\n",
       "         'on': 24,\n",
       "         'computer': 7,\n",
       "         'cool': 12,\n",
       "         'mom': 4,\n",
       "         'does': 16,\n",
       "         'same': 11,\n",
       "         'thing': 11,\n",
       "         'always': 7,\n",
       "         'had': 21,\n",
       "         'love': 49,\n",
       "         'technology': 3,\n",
       "         'tell': 8,\n",
       "         'me': 35,\n",
       "         'more': 3,\n",
       "         'about': 11,\n",
       "         'yourself': 3,\n",
       "         'really': 16,\n",
       "         'enjoy': 9,\n",
       "         'free': 5,\n",
       "         'diving': 2,\n",
       "         'hanging': 2,\n",
       "         'mother': 8,\n",
       "         'she': 2,\n",
       "         'best': 7,\n",
       "         'friend': 10,\n",
       "         'nice': 21,\n",
       "         'moms': 1,\n",
       "         'too': 18,\n",
       "         'we': 9,\n",
       "         'live': 19,\n",
       "         'yellow': 12,\n",
       "         'submarine': 12,\n",
       "         'morning': 6,\n",
       "         'great': 59,\n",
       "         'line': 6,\n",
       "         'next': 7,\n",
       "         'stand': 6,\n",
       "         'lol': 24,\n",
       "         'shy': 5,\n",
       "         'break': 5,\n",
       "         'ice': 5,\n",
       "         'beatles': 5,\n",
       "         'fan': 5,\n",
       "         'see': 21,\n",
       "         'tv': 13,\n",
       "         'shows': 9,\n",
       "         'it': 61,\n",
       "         'makes': 7,\n",
       "         'forget': 7,\n",
       "         'family': 10,\n",
       "         'wish': 5,\n",
       "         'big': 4,\n",
       "         'grew': 4,\n",
       "         'small': 4,\n",
       "         'town': 4,\n",
       "         'did': 10,\n",
       "         'get': 17,\n",
       "         'along': 10,\n",
       "         'mine': 3,\n",
       "         'they': 6,\n",
       "         'no': 40,\n",
       "         'class': 3,\n",
       "         'drink': 3,\n",
       "         'cola': 3,\n",
       "         'rum': 3,\n",
       "         'll': 13,\n",
       "         'them': 11,\n",
       "         'put': 2,\n",
       "         'lime': 2,\n",
       "         'coconut': 2,\n",
       "         'as': 27,\n",
       "         'well': 30,\n",
       "         'nah': 2,\n",
       "         'plain': 2,\n",
       "         'cuba': 2,\n",
       "         'libre': 2,\n",
       "         'drank': 2,\n",
       "         'yesterday': 2,\n",
       "         'at': 37,\n",
       "         'theater': 2,\n",
       "         'prefer': 9,\n",
       "         'mojitos': 1,\n",
       "         'watermelon': 1,\n",
       "         'cucumber': 1,\n",
       "         'work': 69,\n",
       "         'gourmet': 9,\n",
       "         'cook': 20,\n",
       "         'don': 17,\n",
       "         't': 26,\n",
       "         'carrots': 15,\n",
       "         'throw': 10,\n",
       "         'away': 10,\n",
       "         'sing': 7,\n",
       "         'pitch': 8,\n",
       "         'perfect': 8,\n",
       "         'ride': 15,\n",
       "         'bike': 7,\n",
       "         'won': 6,\n",
       "         'an': 27,\n",
       "         'award': 6,\n",
       "         'spelling': 11,\n",
       "         'bee': 6,\n",
       "         'contacts': 6,\n",
       "         'through': 6,\n",
       "         'trying': 11,\n",
       "         'sell': 6,\n",
       "         'okay': 5,\n",
       "         'published': 5,\n",
       "         'new': 12,\n",
       "         'yorker': 5,\n",
       "         'once': 8,\n",
       "         'better': 5,\n",
       "         'make': 8,\n",
       "         'mistakes': 5,\n",
       "         'word': 4,\n",
       "         'want': 11,\n",
       "         'ethnicity': 4,\n",
       "         'white': 4,\n",
       "         'hair': 7,\n",
       "         'brown': 4,\n",
       "         'asian': 3,\n",
       "         'hairless': 3,\n",
       "         'asians': 3,\n",
       "         'horse': 2,\n",
       "         'male': 2,\n",
       "         'female': 2,\n",
       "         'who': 5,\n",
       "         'has': 1,\n",
       "         'voice': 1,\n",
       "         'career': 7,\n",
       "         'ton': 7,\n",
       "         'if': 12,\n",
       "         'interested': 7,\n",
       "         'kids': 7,\n",
       "         'actually': 11,\n",
       "         'guitar': 6,\n",
       "         'lot': 39,\n",
       "         'manly': 14,\n",
       "         'things': 8,\n",
       "         'welding': 6,\n",
       "         'weld': 5,\n",
       "         'houses': 5,\n",
       "         'everything': 12,\n",
       "         've': 24,\n",
       "         'secret': 9,\n",
       "         'hiding': 5,\n",
       "         'parents': 4,\n",
       "         'know': 4,\n",
       "         'homosexual': 4,\n",
       "         'feel': 6,\n",
       "         'secure': 3,\n",
       "         'skills': 3,\n",
       "         'bet': 2,\n",
       "         'anyway': 2,\n",
       "         'hello': 29,\n",
       "         'creepy': 8,\n",
       "         'guess': 13,\n",
       "         'enjoying': 7,\n",
       "         'drive': 7,\n",
       "         'around': 11,\n",
       "         'long': 7,\n",
       "         'black': 30,\n",
       "         'hearse': 7,\n",
       "         'this': 7,\n",
       "         'funeral': 11,\n",
       "         'home': 11,\n",
       "         'yes': 17,\n",
       "         'halloween': 10,\n",
       "         'fav': 6,\n",
       "         'imagine': 5,\n",
       "         'reading': 10,\n",
       "         'over': 5,\n",
       "         'ok': 11,\n",
       "         'costume': 4,\n",
       "         'read': 10,\n",
       "         'rock': 25,\n",
       "         'alternative': 4,\n",
       "         'music': 20,\n",
       "         'mystery': 3,\n",
       "         'oh': 10,\n",
       "         'isn': 3,\n",
       "         'car': 7,\n",
       "         'taught': 2,\n",
       "         'own': 11,\n",
       "         'sherlock': 1,\n",
       "         'holmes': 1,\n",
       "         'others': 1,\n",
       "         'listening': 20,\n",
       "         'band': 7,\n",
       "         'guns': 7,\n",
       "         'roses': 7,\n",
       "         'kidding': 7,\n",
       "         'taking': 7,\n",
       "         'bath': 7,\n",
       "         'course': 6,\n",
       "         'listen': 6,\n",
       "         'man': 6,\n",
       "         'boxer': 6,\n",
       "         'peed': 6,\n",
       "         'carpet': 11,\n",
       "         'into': 5,\n",
       "         'so': 15,\n",
       "         'least': 6,\n",
       "         'wouldn': 5,\n",
       "         'playing': 34,\n",
       "         'loud': 5,\n",
       "         'purse': 4,\n",
       "         'wear': 4,\n",
       "         'maybe': 9,\n",
       "         'borrow': 4,\n",
       "         'something': 4,\n",
       "         'packing': 4,\n",
       "         'visit': 4,\n",
       "         'dad': 4,\n",
       "         'china': 4,\n",
       "         'he': 3,\n",
       "         'there': 11,\n",
       "         'moved': 3,\n",
       "         'ten': 3,\n",
       "         'years': 3,\n",
       "         'ago': 3,\n",
       "         'tech': 3,\n",
       "         'job': 29,\n",
       "         'visited': 2,\n",
       "         'him': 2,\n",
       "         'before': 5,\n",
       "         'cannot': 8,\n",
       "         'even': 7,\n",
       "         'gum': 2,\n",
       "         'wrapper': 2,\n",
       "         'arrested': 2,\n",
       "         'sounds': 10,\n",
       "         'bit': 1,\n",
       "         'scary': 1,\n",
       "         'never': 3,\n",
       "         'been': 14,\n",
       "         'finishing': 8,\n",
       "         'homework': 8,\n",
       "         'alright': 7,\n",
       "         'got': 7,\n",
       "         'done': 7,\n",
       "         'writing': 7,\n",
       "         'write': 7,\n",
       "         'culture': 6,\n",
       "         'business': 6,\n",
       "         'major': 8,\n",
       "         'part': 13,\n",
       "         'ba': 5,\n",
       "         'finance': 5,\n",
       "         'company': 5,\n",
       "         'still': 6,\n",
       "         'pizza': 7,\n",
       "         'hut': 4,\n",
       "         'deal': 3,\n",
       "         'start': 2,\n",
       "         'yeah': 2,\n",
       "         'hope': 2,\n",
       "         'frat': 2,\n",
       "         'party': 3,\n",
       "         'again': 2,\n",
       "         'soon': 2,\n",
       "         'used': 1,\n",
       "         'day': 20,\n",
       "         'off': 16,\n",
       "         'only': 9,\n",
       "         'worked': 7,\n",
       "         'half': 7,\n",
       "         'bank': 12,\n",
       "         'office': 6,\n",
       "         'teller': 10,\n",
       "         'could': 15,\n",
       "         'find': 5,\n",
       "         'college': 13,\n",
       "         'pay': 4,\n",
       "         'bills': 4,\n",
       "         'working': 4,\n",
       "         'basket': 4,\n",
       "         'ball': 4,\n",
       "         'hike': 3,\n",
       "         'park': 3,\n",
       "         'relaxing': 3,\n",
       "         'suppose': 3,\n",
       "         'nature': 2,\n",
       "         'keeps': 2,\n",
       "         'mind': 7,\n",
       "         'travel': 8,\n",
       "         'should': 2,\n",
       "         'though': 5,\n",
       "         'young': 2,\n",
       "         'go': 20,\n",
       "         'another': 1,\n",
       "         'country': 1,\n",
       "         'left': 1,\n",
       "         'states': 1,\n",
       "         'games': 10,\n",
       "         'sons': 7,\n",
       "         'right': 7,\n",
       "         'now': 7,\n",
       "         'proofread': 6,\n",
       "         'hallmark': 6,\n",
       "         'followed': 6,\n",
       "         'father': 8,\n",
       "         'became': 6,\n",
       "         'author': 6,\n",
       "         'books': 17,\n",
       "         'greatest': 5,\n",
       "         'pleasure': 5,\n",
       "         'little': 5,\n",
       "         'library': 5,\n",
       "         'building': 5,\n",
       "         'nothing': 5,\n",
       "         'filling': 5,\n",
       "         'literature': 5,\n",
       "         'seen': 4,\n",
       "         'goodfellas': 4,\n",
       "         'guy': 4,\n",
       "         'traveling': 4,\n",
       "         'catch': 3,\n",
       "         'hockey': 3,\n",
       "         'ever': 3,\n",
       "         'traveled': 3,\n",
       "         'extensively': 2,\n",
       "         'europe': 2,\n",
       "         'south': 2,\n",
       "         'america': 2,\n",
       "         'ireland': 3,\n",
       "         'australia': 2,\n",
       "         'places': 2,\n",
       "         'japan': 1,\n",
       "         'stop': 1,\n",
       "         'sally': 7,\n",
       "         'sweet': 7,\n",
       "         'dogs': 9,\n",
       "         'taos': 7,\n",
       "         'mexico': 7,\n",
       "         'sitting': 7,\n",
       "         'here': 8,\n",
       "         'piano': 7,\n",
       "         'singing': 18,\n",
       "         'wonderful': 6,\n",
       "         'memories': 6,\n",
       "         'www': 6,\n",
       "         'dance': 11,\n",
       "         'record': 5,\n",
       "         'idea': 5,\n",
       "         'staying': 6,\n",
       "         'late': 5,\n",
       "         'tonight': 5,\n",
       "         'nurse': 4,\n",
       "         'teaches': 4,\n",
       "         'nutrition': 4,\n",
       "         'classes': 4,\n",
       "         'struggling': 3,\n",
       "         'artist': 3,\n",
       "         'tutor': 3,\n",
       "         'being': 3,\n",
       "         'vegetarian': 3,\n",
       "         'important': 3,\n",
       "         'instruct': 3,\n",
       "         'people': 5,\n",
       "         'commitment': 2,\n",
       "         'beliefs': 2,\n",
       "         'admit': 2,\n",
       "         'less': 2,\n",
       "         'moderation': 2,\n",
       "         'pets': 1,\n",
       "         'sheet': 6,\n",
       "         'singer': 6,\n",
       "         'garden': 13,\n",
       "         'spare': 5,\n",
       "         'tennis': 5,\n",
       "         'animals': 8,\n",
       "         'seeing': 4,\n",
       "         'lots': 5,\n",
       "         'rabbits': 3,\n",
       "         'give': 2,\n",
       "         'vegetables': 2,\n",
       "         'veterans': 2,\n",
       "         'veteran': 2,\n",
       "         'works': 2,\n",
       "         'ge': 2,\n",
       "         'included': 2,\n",
       "         'recently': 2,\n",
       "         'retired': 2,\n",
       "         'thanks': 1,\n",
       "         'chat': 1,\n",
       "         'hey': 12,\n",
       "         'smoothie': 6,\n",
       "         'shop': 6,\n",
       "         'eating': 5,\n",
       "         'tacos': 5,\n",
       "         'move': 5,\n",
       "         'local': 5,\n",
       "         'university': 4,\n",
       "         'michigan': 4,\n",
       "         'first': 9,\n",
       "         'yr': 4,\n",
       "         'outdoors': 6,\n",
       "         'especially': 3,\n",
       "         'summer': 3,\n",
       "         'basketball': 3,\n",
       "         'rocking': 3,\n",
       "         'classic': 3,\n",
       "         'decided': 4,\n",
       "         'yet': 2,\n",
       "         'pre': 1,\n",
       "         'med': 1,\n",
       "         'd': 1,\n",
       "         'doctor': 1,\n",
       "         'lady': 6,\n",
       "         'gaga': 6,\n",
       "         'her': 6,\n",
       "         'led': 5,\n",
       "         'zeppelin': 5,\n",
       "         'madonna': 5,\n",
       "         'concerts': 5,\n",
       "         'farm': 4,\n",
       "         'maintain': 4,\n",
       "         'mall': 4,\n",
       "         'close': 4,\n",
       "         'venue': 4,\n",
       "         'hiking': 3,\n",
       "         'photography': 3,\n",
       "         'rather': 3,\n",
       "         'than': 3,\n",
       "         'crowded': 3,\n",
       "         'malls': 3,\n",
       "         'pays': 3,\n",
       "         'money': 3,\n",
       "         'manager': 3,\n",
       "         'tiring': 2,\n",
       "         'world': 2,\n",
       "         'instead': 2,\n",
       "         'fine': 1,\n",
       "         'two': 1,\n",
       "         'keep': 1,\n",
       "         'outside': 1,\n",
       "         'remodeling': 1,\n",
       "         'which': 1,\n",
       "         'fascinated': 1,\n",
       "         'those': 1,\n",
       "         'yummy': 1,\n",
       "         'doubt': 1,\n",
       "         'probably': 1,\n",
       "         'scream': 1,\n",
       "         'alone': 1,\n",
       "         'confusion': 1,\n",
       "         'crime': 1,\n",
       "         'enough': 1,\n",
       "         'either': 1,\n",
       "         'together': 1,\n",
       "         'heard': 1,\n",
       "         'friendly': 1,\n",
       "         'cat': 1,\n",
       "         'named': 1,\n",
       "         'radar': 1,\n",
       "         'luck': 1,\n",
       "         'kind': 1})"
      ]
     },
     "execution_count": 43,
     "metadata": {},
     "output_type": "execute_result"
    }
   ],
   "source": [
    "vocab.freqs"
   ]
  },
  {
   "cell_type": "code",
   "execution_count": 10,
   "id": "alternative-attendance",
   "metadata": {
    "scrolled": true
   },
   "outputs": [
    {
     "name": "stdout",
     "output_type": "stream",
     "text": [
      "Example \n",
      "-------\n",
      "tensor([[ 2, 30, 12,  ..., 79,  4,  3],\n",
      "        [ 2, 55,  9,  ...,  3,  1,  1],\n",
      "        [ 2, 30,  9,  ..., 23,  3,  1],\n",
      "        ...,\n",
      "        [ 2,  3,  1,  ...,  1,  1,  1],\n",
      "        [ 2,  3,  1,  ...,  1,  1,  1],\n",
      "        [ 2,  3,  1,  ...,  1,  1,  1]])\n",
      "tensor([62, 60, 61, 53, 51, 42, 40, 39, 34, 47, 42, 37, 40, 29, 22, 29, 23, 23,\n",
      "        21, 21, 21, 21, 19, 18,  2, 16,  2,  2,  2,  2,  2,  2,  2,  2,  2,  2,\n",
      "         2,  2,  2])\n"
     ]
    },
    {
     "name": "stderr",
     "output_type": "stream",
     "text": [
      "/Users/paulabartabajo/miniconda3/envs/chatbot_py3.6/lib/python3.6/site-packages/torchtext/data/iterator.py:48: UserWarning: BucketIterator class will be retired soon and moved to torchtext.legacy. Please see the most recent release notes for further information.\n",
      "  warnings.warn('{} class will be retired soon and moved to torchtext.legacy. Please see the most recent release notes for further information.'.format(self.__class__.__name__), UserWarning)\n",
      "/Users/paulabartabajo/miniconda3/envs/chatbot_py3.6/lib/python3.6/site-packages/torchtext/data/batch.py:23: UserWarning: Batch class will be retired soon and moved to torchtext.legacy. Please see the most recent release notes for further information.\n",
      "  warnings.warn('{} class will be retired soon and moved to torchtext.legacy. Please see the most recent release notes for further information.'.format(self.__class__.__name__), UserWarning)\n"
     ]
    }
   ],
   "source": [
    "%autoreload 2\n",
    "from utils.data import get_dataloaders\n",
    "\n",
    "train_iter, validation_iter, test_iter = get_dataloaders(\n",
    "    train_dataset, validation_dataset, test_dataset,\n",
    "    batch_size=2400,\n",
    "    device=DEVICE\n",
    ")\n",
    "\n",
    "x = next(iter(validation_iter))\n",
    "print('Example \\n-------')\n",
    "print(x.src[0])\n",
    "print(x.src[1])"
   ]
  },
  {
   "cell_type": "code",
   "execution_count": 11,
   "id": "voluntary-credit",
   "metadata": {},
   "outputs": [
    {
     "name": "stdout",
     "output_type": "stream",
     "text": [
      "The model has 5,476,657 parameters\n"
     ]
    }
   ],
   "source": [
    "%autoreload 2\n",
    "from model import Seq2seqRNN, count_parameters\n",
    "\n",
    "hidden_dim = 256\n",
    "n_layers = 3\n",
    "n_directions_encoder = 2\n",
    "model = Seq2seqRNN(len(vocab),\n",
    "                   vocab.vectors.shape[1],\n",
    "                   hidden_dim,\n",
    "                   n_layers,\n",
    "                   n_directions_encoder,\n",
    "                   dropout=0.2,\n",
    "                   pretrained_embeddings=vocab.vectors,\n",
    "                   freeze_embeddings=False,\n",
    "#                    attention_type='dot'\n",
    "                  )\n",
    "\n",
    "print(f'The model has {count_parameters(model):,} parameters')"
   ]
  },
  {
   "cell_type": "code",
   "execution_count": 14,
   "id": "gothic-clothing",
   "metadata": {},
   "outputs": [
    {
     "data": {
      "application/vnd.jupyter.widget-view+json": {
       "model_id": "7f4f93d45ead49bda566f1dd326910bb",
       "version_major": 2,
       "version_minor": 0
      },
      "text/plain": [
       "  0%|          | 0/100 [00:00<?, ?it/s]"
      ]
     },
     "metadata": {},
     "output_type": "display_data"
    },
    {
     "data": {
      "application/vnd.jupyter.widget-view+json": {
       "model_id": "5c2d5c2f7bf741c98528eddf8b81392a",
       "version_major": 2,
       "version_minor": 0
      },
      "text/plain": [
       "  0%|          | 0/100 [00:00<?, ?it/s]"
      ]
     },
     "metadata": {},
     "output_type": "display_data"
    },
    {
     "name": "stdout",
     "output_type": "stream",
     "text": [
      "Epoch: 000, Train loss: 6.1542, Val loss: 6.1182, Train ppl: 470.7, Val ppl: 454.1\n",
      "artifacts/f04249a4-69a1-11eb-bc39-acbc32b70c09/0.ckpt was saved\n",
      "artifacts/f04249a4-69a1-11eb-bc39-acbc32b70c09/params.json file was saved\n"
     ]
    },
    {
     "data": {
      "application/vnd.jupyter.widget-view+json": {
       "model_id": "c1f9f4a4a92c48449e6897b41f0e9161",
       "version_major": 2,
       "version_minor": 0
      },
      "text/plain": [
       "  0%|          | 0/100 [00:00<?, ?it/s]"
      ]
     },
     "metadata": {},
     "output_type": "display_data"
    },
    {
     "data": {
      "application/vnd.jupyter.widget-view+json": {
       "model_id": "989153f5f8ef461a88a75a431d3576c4",
       "version_major": 2,
       "version_minor": 0
      },
      "text/plain": [
       "  0%|          | 0/100 [00:00<?, ?it/s]"
      ]
     },
     "metadata": {},
     "output_type": "display_data"
    },
    {
     "name": "stdout",
     "output_type": "stream",
     "text": [
      "Epoch: 001, Train loss: 6.1150, Val loss: 6.0492, Train ppl: 452.6, Val ppl: 423.8\n",
      "artifacts/f04249a4-69a1-11eb-bc39-acbc32b70c09/1.ckpt was saved\n",
      "artifacts/f04249a4-69a1-11eb-bc39-acbc32b70c09/params.json file was saved\n"
     ]
    }
   ],
   "source": [
    "%autoreload 2\n",
    "from train import Seq2seqRNNTrainer\n",
    "from utils.data import PAD_TOKEN\n",
    "\n",
    "trainer = Seq2seqRNNTrainer(model,\n",
    "                            train_iter,\n",
    "                            validation_iter,\n",
    "                            learning_rate=3e-4,\n",
    "                            pad_token_id=vocab.stoi[PAD_TOKEN],\n",
    "                            gradient_clip=5,\n",
    "                            teacher_forcing=0.5,\n",
    "                            checkpoint_dir=ARTIFACTS_DIR)\n",
    "n_epochs = 2\n",
    "trainer.train_test_loop(n_epochs)"
   ]
  },
  {
   "cell_type": "code",
   "execution_count": 135,
   "id": "abstract-beijing",
   "metadata": {},
   "outputs": [
    {
     "data": {
      "application/vnd.jupyter.widget-view+json": {
       "model_id": "b7091ec0ee6943da9c50ffdd548bac77",
       "version_major": 2,
       "version_minor": 0
      },
      "text/plain": [
       "  0%|          | 0/150 [00:00<?, ?it/s]"
      ]
     },
     "metadata": {},
     "output_type": "display_data"
    },
    {
     "data": {
      "application/vnd.jupyter.widget-view+json": {
       "model_id": "49a30c22371b4e84832ffef4572a3a64",
       "version_major": 2,
       "version_minor": 0
      },
      "text/plain": [
       "  0%|          | 0/7 [00:00<?, ?it/s]"
      ]
     },
     "metadata": {},
     "output_type": "display_data"
    },
    {
     "name": "stdout",
     "output_type": "stream",
     "text": [
      "Epoch: 000, Train loss: 5.7879, Val loss: 4.7615, Train ppl: 326.3, Val ppl: 116.9\n",
      "checkpoints/0193b9c0-6544-11eb-b0e5-acbc32b70c09/1.ckpt was saved\n",
      "checkpoints/0193b9c0-6544-11eb-b0e5-acbc32b70c09/params.json file was saved\n"
     ]
    },
    {
     "data": {
      "application/vnd.jupyter.widget-view+json": {
       "model_id": "35d7c80478b14fffb12d7685850b60b1",
       "version_major": 2,
       "version_minor": 0
      },
      "text/plain": [
       "  0%|          | 0/150 [00:00<?, ?it/s]"
      ]
     },
     "metadata": {},
     "output_type": "display_data"
    },
    {
     "data": {
      "application/vnd.jupyter.widget-view+json": {
       "model_id": "2ff99563a553414298986f86b2c72b55",
       "version_major": 2,
       "version_minor": 0
      },
      "text/plain": [
       "  0%|          | 0/7 [00:00<?, ?it/s]"
      ]
     },
     "metadata": {},
     "output_type": "display_data"
    },
    {
     "name": "stdout",
     "output_type": "stream",
     "text": [
      "Epoch: 001, Train loss: 5.1757, Val loss: 4.3103, Train ppl: 176.9, Val ppl: 74.5\n",
      "checkpoints/0193b9c0-6544-11eb-b0e5-acbc32b70c09/2.ckpt was saved\n",
      "checkpoints/0193b9c0-6544-11eb-b0e5-acbc32b70c09/params.json file was saved\n"
     ]
    }
   ],
   "source": [
    "trainer.load(run_id=trainer.run_id, epoch=1)\n",
    "\n",
    "n_epochs = 2\n",
    "trainer.train_test_loop(n_epochs)"
   ]
  },
  {
   "cell_type": "code",
   "execution_count": 136,
   "id": "missing-yemen",
   "metadata": {},
   "outputs": [
    {
     "data": {
      "application/vnd.jupyter.widget-view+json": {
       "model_id": "b62fc82699594e019338ff3d05ca029e",
       "version_major": 2,
       "version_minor": 0
      },
      "text/plain": [
       "  0%|          | 0/150 [00:00<?, ?it/s]"
      ]
     },
     "metadata": {},
     "output_type": "display_data"
    },
    {
     "data": {
      "application/vnd.jupyter.widget-view+json": {
       "model_id": "1fe8a3fc286f489d83a88523159da806",
       "version_major": 2,
       "version_minor": 0
      },
      "text/plain": [
       "  0%|          | 0/7 [00:00<?, ?it/s]"
      ]
     },
     "metadata": {},
     "output_type": "display_data"
    },
    {
     "name": "stdout",
     "output_type": "stream",
     "text": [
      "Epoch: 000, Train loss: 4.9722, Val loss: 4.1971, Train ppl: 144.3, Val ppl: 66.5\n",
      "checkpoints/0193b9c0-6544-11eb-b0e5-acbc32b70c09/3.ckpt was saved\n",
      "checkpoints/0193b9c0-6544-11eb-b0e5-acbc32b70c09/params.json file was saved\n"
     ]
    },
    {
     "data": {
      "application/vnd.jupyter.widget-view+json": {
       "model_id": "857861c2aa5d445b913c02ea65b8f1f0",
       "version_major": 2,
       "version_minor": 0
      },
      "text/plain": [
       "  0%|          | 0/150 [00:00<?, ?it/s]"
      ]
     },
     "metadata": {},
     "output_type": "display_data"
    },
    {
     "data": {
      "application/vnd.jupyter.widget-view+json": {
       "model_id": "a8efd4f826d64e78928dbca5cf4c8bad",
       "version_major": 2,
       "version_minor": 0
      },
      "text/plain": [
       "  0%|          | 0/7 [00:00<?, ?it/s]"
      ]
     },
     "metadata": {},
     "output_type": "display_data"
    },
    {
     "name": "stdout",
     "output_type": "stream",
     "text": [
      "Epoch: 001, Train loss: 4.8659, Val loss: 4.1958, Train ppl: 129.8, Val ppl: 66.4\n",
      "checkpoints/0193b9c0-6544-11eb-b0e5-acbc32b70c09/4.ckpt was saved\n",
      "checkpoints/0193b9c0-6544-11eb-b0e5-acbc32b70c09/params.json file was saved\n"
     ]
    }
   ],
   "source": [
    "n_epochs = 2\n",
    "trainer.train_test_loop(n_epochs)"
   ]
  },
  {
   "cell_type": "code",
   "execution_count": null,
   "id": "romance-request",
   "metadata": {},
   "outputs": [],
   "source": []
  }
 ],
 "metadata": {
  "kernelspec": {
   "display_name": "Python 3",
   "language": "python",
   "name": "python3"
  },
  "language_info": {
   "codemirror_mode": {
    "name": "ipython",
    "version": 3
   },
   "file_extension": ".py",
   "mimetype": "text/x-python",
   "name": "python",
   "nbconvert_exporter": "python",
   "pygments_lexer": "ipython3",
   "version": "3.6.9"
  }
 },
 "nbformat": 4,
 "nbformat_minor": 5
}
