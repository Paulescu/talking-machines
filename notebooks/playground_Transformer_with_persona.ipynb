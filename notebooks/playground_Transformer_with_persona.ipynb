{
 "cells": [
  {
   "cell_type": "markdown",
   "id": "floral-fundamentals",
   "metadata": {},
   "source": [
    "# Conversational agent based on a seq2seq model with attention"
   ]
  },
  {
   "cell_type": "markdown",
   "id": "younger-quarterly",
   "metadata": {},
   "source": [
    "## Setup environment if running in Google Colab"
   ]
  },
  {
   "cell_type": "code",
   "execution_count": 1,
   "id": "streaming-armstrong",
   "metadata": {},
   "outputs": [],
   "source": [
    "# %%bash\n",
    "# git clone https://github.com/Paulescu/talking-machines.git\n",
    "# mv talking-machines/* .\n",
    "# rm -r talking-machines\n",
    "# pip install -q -r requirements_py3.6.txt"
   ]
  },
  {
   "cell_type": "code",
   "execution_count": 2,
   "id": "nervous-rough",
   "metadata": {},
   "outputs": [],
   "source": [
    "%load_ext autoreload\n",
    "%autoreload 2\n",
    "%config InlineBackend.figure_format = 'svg'"
   ]
  },
  {
   "cell_type": "markdown",
   "id": "wired-advocacy",
   "metadata": {},
   "source": [
    "## Set environment variables"
   ]
  },
  {
   "cell_type": "code",
   "execution_count": 3,
   "id": "quantitative-alexander",
   "metadata": {},
   "outputs": [
    {
     "name": "stdout",
     "output_type": "stream",
     "text": [
      "Running in local\n"
     ]
    }
   ],
   "source": [
    "from pathlib import Path\n",
    "import sys\n",
    "\n",
    "if 'google.colab' in str(get_ipython()):\n",
    "    print('Running in Colab')\n",
    "    \n",
    "    # mount google drive\n",
    "    from google.colab import drive\n",
    "    drive.mount('/content/drive')\n",
    "    \n",
    "    STORAGE_DIR = Path('/content/drive/MyDrive/chatbot-course')\n",
    "    ROOT_DIR = Path('/content')\n",
    "    \n",
    "else:\n",
    "    print('Running in local')\n",
    "    STORAGE_DIR = Path('/Users/paulabartabajo/src/online-courses/advanced-nlp-chatbot')\n",
    "    ROOT_DIR = STORAGE_DIR\n",
    "\n",
    "DATA_DIR = STORAGE_DIR / 'data'\n",
    "ARTIFACTS_DIR = STORAGE_DIR / 'artifacts'\n",
    "VECTORS_CACHE_DIR = STORAGE_DIR / 'vector_cache'\n",
    "\n",
    "sys.path.insert(0, str(ROOT_DIR))"
   ]
  },
  {
   "cell_type": "code",
   "execution_count": 4,
   "id": "vanilla-comparison",
   "metadata": {},
   "outputs": [
    {
     "name": "stdout",
     "output_type": "stream",
     "text": [
      "GPU is not available. If you are using Google Colab, change the runtime to GPU, otherwise training will take too long.\n"
     ]
    }
   ],
   "source": [
    "import torch\n",
    "\n",
    "if torch.cuda.is_available():\n",
    "    DEVICE = torch.device(\"cuda\")\n",
    "    print('GPU acceleration is available and will be used :-)')\n",
    "else:\n",
    "    DEVICE = torch.device(\"cpu\")\n",
    "    print('GPU is not available. If you are using Google Colab, change the runtime to GPU, otherwise training will '\n",
    "          'take too long.')"
   ]
  },
  {
   "cell_type": "markdown",
   "id": "subtle-valve",
   "metadata": {},
   "source": [
    "## Download the data"
   ]
  },
  {
   "cell_type": "code",
   "execution_count": 5,
   "id": "becoming-sigma",
   "metadata": {},
   "outputs": [],
   "source": [
    "# !wget http://parl.ai/downloads/personachat/personachat.tgz -P $DATA_DIR\n",
    "# !tar -tvf ${DATA_DIR}/personachat.tgz -C ${DATA_DIR}"
   ]
  },
  {
   "cell_type": "code",
   "execution_count": 6,
   "id": "extensive-revision",
   "metadata": {},
   "outputs": [],
   "source": [
    "# DATA_DIR = DATA_DIR / 'personachat'"
   ]
  },
  {
   "cell_type": "markdown",
   "id": "vietnamese-correspondence",
   "metadata": {},
   "source": [
    "------"
   ]
  },
  {
   "cell_type": "markdown",
   "id": "bored-southeast",
   "metadata": {},
   "source": [
    "## Generate train, val, test files"
   ]
  },
  {
   "cell_type": "code",
   "execution_count": 7,
   "id": "lasting-blood",
   "metadata": {
    "scrolled": false
   },
   "outputs": [],
   "source": [
    "# %autoreload 2\n",
    "# from src.data import generate_file_with_training_examples\n",
    "# from src.util import pprint\n",
    "\n",
    "# # train set\n",
    "# generate_file_with_training_examples(\n",
    "#     input_file=DATA_DIR/'train_both_original.txt',\n",
    "#     output_file=DATA_DIR/'train_both_original.json',   \n",
    "#     n_past_utterances=1,\n",
    "#     include_persona=True,\n",
    "#     include_partner=True,\n",
    "#     autocorrect=False,\n",
    "# )\n",
    "\n",
    "# # validation set\n",
    "# generate_file_with_training_examples(\n",
    "#     input_file=DATA_DIR/'valid_both_original.txt',\n",
    "#     output_file=DATA_DIR/'valid_both_original.json',   \n",
    "#     n_past_utterances=1,\n",
    "#     include_persona=True,\n",
    "#     include_partner=True,\n",
    "#     autocorrect=False,\n",
    "# )\n",
    "\n",
    "# # test set\n",
    "# generate_file_with_training_examples(\n",
    "#     input_file=DATA_DIR/'test_both_original.txt',\n",
    "#     output_file=DATA_DIR/'test_both_original.json',   \n",
    "#     n_past_utterances=1,\n",
    "#     include_persona=True,\n",
    "#     include_partner=True,\n",
    "#     autocorrect=False,\n",
    "# )"
   ]
  },
  {
   "cell_type": "markdown",
   "id": "scenic-therapy",
   "metadata": {},
   "source": [
    "## Generate the vocabulary\n",
    "\n",
    "I use all data available in the train set to build the vocab.\n",
    "\n",
    "I want to keep the vocab fixed while I play with different train sub-datasets"
   ]
  },
  {
   "cell_type": "code",
   "execution_count": 8,
   "id": "graphic-valentine",
   "metadata": {},
   "outputs": [
    {
     "data": {
      "text/plain": [
       "['<unk>',\n",
       " '<PAD>',\n",
       " '<BOS>',\n",
       " '<EOS>',\n",
       " '.',\n",
       " 'i',\n",
       " 'a',\n",
       " 'my',\n",
       " 'to',\n",
       " 'am',\n",
       " 'is',\n",
       " 'the',\n",
       " 'have',\n",
       " ',',\n",
       " 'like',\n",
       " 'in',\n",
       " 'you',\n",
       " '?',\n",
       " 'and',\n",
       " 'do',\n",
       " 'love',\n",
       " 'of',\n",
       " 'favorite',\n",
       " 'that',\n",
       " '!',\n",
       " 'for',\n",
       " 'work',\n",
       " 'not',\n",
       " 'are',\n",
       " 'at',\n",
       " 'with',\n",
       " 'it',\n",
       " 'on',\n",
       " 'me',\n",
       " 'what',\n",
       " 'an',\n",
       " 'live',\n",
       " 'but',\n",
       " 'was',\n",
       " 'be',\n",
       " 'enjoy',\n",
       " 'go',\n",
       " 'just',\n",
       " 'as',\n",
       " 'how',\n",
       " 'good',\n",
       " 'so',\n",
       " 'time',\n",
       " 'school',\n",
       " 'music',\n",
       " 'play',\n",
       " 'from',\n",
       " 'm',\n",
       " 'about',\n",
       " 'can',\n",
       " 'when',\n",
       " 'too',\n",
       " 'food',\n",
       " 'up',\n",
       " 'eat',\n",
       " 'all',\n",
       " 'one',\n",
       " 'own',\n",
       " 'out',\n",
       " 'very',\n",
       " 'want',\n",
       " 'would',\n",
       " 'lot',\n",
       " 'your',\n",
       " 'two',\n",
       " 'get',\n",
       " 'well',\n",
       " 'day',\n",
       " 'job',\n",
       " 'been',\n",
       " 'really',\n",
       " 'no',\n",
       " 'years',\n",
       " 'college',\n",
       " 'great',\n",
       " 'family',\n",
       " 'band',\n",
       " 'oh',\n",
       " 'dogs',\n",
       " 'read',\n",
       " 'color',\n",
       " 'make',\n",
       " 'mother',\n",
       " 'we',\n",
       " 'kids',\n",
       " 'parents',\n",
       " 'yes',\n",
       " 'going',\n",
       " 'drive',\n",
       " 'nice',\n",
       " 'old',\n",
       " 'they',\n",
       " 'home',\n",
       " 'dog',\n",
       " 'new',\n",
       " 't',\n",
       " 'them',\n",
       " 'cool',\n",
       " 'will',\n",
       " 'never',\n",
       " 'hair',\n",
       " 'any',\n",
       " 'mom',\n",
       " 'friends',\n",
       " 'doing',\n",
       " 'married',\n",
       " 'there',\n",
       " 'people',\n",
       " 'much',\n",
       " 'only',\n",
       " 'its',\n",
       " 'year',\n",
       " 'also',\n",
       " 'fun',\n",
       " 'watch',\n",
       " 'got',\n",
       " 'know',\n",
       " 'think',\n",
       " 'car',\n",
       " 'more',\n",
       " 'could',\n",
       " 'take',\n",
       " 'some',\n",
       " 'watching',\n",
       " 'now',\n",
       " 'every',\n",
       " 'hate',\n",
       " 'children',\n",
       " 'cats',\n",
       " 'teacher',\n",
       " 'always',\n",
       " 'best',\n",
       " 'sounds',\n",
       " 'games',\n",
       " '3',\n",
       " 'high',\n",
       " 'hi',\n",
       " 'life',\n",
       " 'where',\n",
       " '2',\n",
       " 'living',\n",
       " 'this',\n",
       " 'had',\n",
       " 'wish',\n",
       " 'cook',\n",
       " 's',\n",
       " 'blue',\n",
       " 'red',\n",
       " 'travel',\n",
       " 'three',\n",
       " 'dad',\n",
       " 'used',\n",
       " 'listen',\n",
       " 'or',\n",
       " 'cat',\n",
       " 'country',\n",
       " 'he',\n",
       " 'sometimes',\n",
       " 'father',\n",
       " 'name',\n",
       " 'long',\n",
       " 'yeah',\n",
       " 'over',\n",
       " 'pizza',\n",
       " 'reading',\n",
       " 'don',\n",
       " 'books',\n",
       " 'movies',\n",
       " 'did',\n",
       " 'playing',\n",
       " 'hope',\n",
       " 'husband',\n",
       " 'friend',\n",
       " 'if',\n",
       " 'wife',\n",
       " 'video',\n",
       " 'still',\n",
       " 'she',\n",
       " 'lol',\n",
       " 'by',\n",
       " 'need',\n",
       " 'who',\n",
       " 'animals',\n",
       " 'today',\n",
       " 'though',\n",
       " 'named',\n",
       " 'than',\n",
       " 'wow',\n",
       " 'working',\n",
       " 'has',\n",
       " 'night',\n",
       " 'vegan',\n",
       " 'many',\n",
       " 'drink',\n",
       " 'pretty',\n",
       " 'things',\n",
       " '5',\n",
       " 'hello',\n",
       " 'currently',\n",
       " 'city',\n",
       " 'right',\n",
       " 'try',\n",
       " 'spend',\n",
       " 'football',\n",
       " 'tv',\n",
       " 'show',\n",
       " 'run',\n",
       " 'because',\n",
       " 'week',\n",
       " 'here',\n",
       " 'awesome',\n",
       " 'should',\n",
       " 'sing',\n",
       " 'store',\n",
       " 'movie',\n",
       " 'wear',\n",
       " 'brother',\n",
       " 'money',\n",
       " 'rock',\n",
       " 'small',\n",
       " 'kind',\n",
       " 'student',\n",
       " 'once',\n",
       " 'recently',\n",
       " 'beach',\n",
       " 'child',\n",
       " 'book',\n",
       " 'world',\n",
       " 'big',\n",
       " 'hobbies',\n",
       " 'since',\n",
       " 'house',\n",
       " 'being',\n",
       " 'back',\n",
       " 'use',\n",
       " 'last',\n",
       " 'see',\n",
       " 'eating',\n",
       " 'black',\n",
       " 'local',\n",
       " 'tall',\n",
       " 'went',\n",
       " 'both',\n",
       " 'looking',\n",
       " 'help',\n",
       " 'does',\n",
       " 'sports',\n",
       " 'myself',\n",
       " 'person',\n",
       " 'pets',\n",
       " 'other',\n",
       " 'write',\n",
       " 've',\n",
       " 'free',\n",
       " 'after',\n",
       " 'why',\n",
       " 'fast',\n",
       " 'graduated',\n",
       " 'cars',\n",
       " 'ride',\n",
       " 'game',\n",
       " 'into',\n",
       " 'meat',\n",
       " 'little',\n",
       " 'maybe',\n",
       " 'hard',\n",
       " 'off',\n",
       " 'sure',\n",
       " 'shop',\n",
       " 'prefer',\n",
       " 'her',\n",
       " 'first',\n",
       " 'cooking',\n",
       " 'thing',\n",
       " 'teach',\n",
       " 'then',\n",
       " 'green',\n",
       " 'getting',\n",
       " 'started',\n",
       " 'often',\n",
       " 'summer',\n",
       " 'sister',\n",
       " 'woman',\n",
       " 'times',\n",
       " 'coffee',\n",
       " 'anything',\n",
       " 'fish',\n",
       " 'visit',\n",
       " 'weekends',\n",
       " 'feel',\n",
       " 'sorry',\n",
       " 'single',\n",
       " 'cannot',\n",
       " 'business',\n",
       " 'farm',\n",
       " '4',\n",
       " 'nurse',\n",
       " 'dance',\n",
       " 'ever',\n",
       " 'basketball',\n",
       " 'garden',\n",
       " 'degree',\n",
       " 'fishing',\n",
       " 'animal',\n",
       " 'alone',\n",
       " 'guitar',\n",
       " 'makes',\n",
       " 'girl',\n",
       " 'haha',\n",
       " 'hiking',\n",
       " 'tell',\n",
       " 'fan',\n",
       " 'before',\n",
       " 'grew',\n",
       " 'bad',\n",
       " 'mine',\n",
       " 'hobby',\n",
       " 'way',\n",
       " 'hours',\n",
       " 'next',\n",
       " 'short',\n",
       " 'born',\n",
       " '10',\n",
       " 'shopping',\n",
       " 'social',\n",
       " 'purple',\n",
       " 'artist',\n",
       " 'draw',\n",
       " 'art',\n",
       " 'truck',\n",
       " 'trying',\n",
       " 'believe',\n",
       " 'while',\n",
       " '6',\n",
       " 'girlfriend',\n",
       " 'say',\n",
       " 'running',\n",
       " 'stay',\n",
       " 'four',\n",
       " 'man',\n",
       " 'spare',\n",
       " 'sleep',\n",
       " 'moved',\n",
       " 'company',\n",
       " 'studying',\n",
       " 'were',\n",
       " 'around',\n",
       " 'speak',\n",
       " 'soccer',\n",
       " 'most',\n",
       " 'happy',\n",
       " 'park',\n",
       " 'our',\n",
       " 'older',\n",
       " 'interesting',\n",
       " 'done',\n",
       " 'down',\n",
       " 'french',\n",
       " 'pet',\n",
       " 'brown',\n",
       " 'days',\n",
       " 'yoga',\n",
       " 'allergic',\n",
       " 'computer',\n",
       " 'taking',\n",
       " 'boyfriend',\n",
       " 'hear',\n",
       " 'hey',\n",
       " 'ok',\n",
       " 'brothers',\n",
       " 'vegetarian',\n",
       " 'even',\n",
       " 'better',\n",
       " 'english',\n",
       " 'morning',\n",
       " 'swim',\n",
       " 'volunteer',\n",
       " 'chocolate',\n",
       " 'son',\n",
       " 'italian',\n",
       " 'six',\n",
       " 'something',\n",
       " 'winter',\n",
       " 'become',\n",
       " 'cold',\n",
       " 'works',\n",
       " 'office',\n",
       " 'keep',\n",
       " 'lives',\n",
       " 'shows',\n",
       " 'place',\n",
       " 'online',\n",
       " 'season',\n",
       " 'find',\n",
       " 'outside',\n",
       " 'baseball',\n",
       " 'soon',\n",
       " 'team',\n",
       " 'paint',\n",
       " 'piano',\n",
       " 'else',\n",
       " 'siblings',\n",
       " 'died',\n",
       " 'player',\n",
       " 'lake',\n",
       " 'large',\n",
       " 'restaurant',\n",
       " 'five',\n",
       " 'move',\n",
       " 'ago',\n",
       " 'look',\n",
       " 'collect',\n",
       " 'few',\n",
       " 'hot',\n",
       " 'bed',\n",
       " 'walking',\n",
       " 'actually',\n",
       " 'listening',\n",
       " 'near',\n",
       " 'thanks',\n",
       " 'grocery',\n",
       " 'class',\n",
       " 'okay',\n",
       " 'bike',\n",
       " 'yet',\n",
       " 'pink',\n",
       " 'same',\n",
       " 'care',\n",
       " 'walks',\n",
       " 'away',\n",
       " 'singer',\n",
       " 'clothes',\n",
       " 'passion',\n",
       " 'especially',\n",
       " 'must',\n",
       " 'grade',\n",
       " 'worked',\n",
       " 'months',\n",
       " 'real',\n",
       " 'mostly',\n",
       " 'buy',\n",
       " 'close',\n",
       " 'dream',\n",
       " 'early',\n",
       " 'month',\n",
       " 'classes',\n",
       " 'doctor',\n",
       " 'grow',\n",
       " 'ice',\n",
       " 'making',\n",
       " 'swimming',\n",
       " 'florida',\n",
       " 'different',\n",
       " 'york',\n",
       " 'lots',\n",
       " 'jazz',\n",
       " 'several',\n",
       " 'apartment',\n",
       " 'hike',\n",
       " 'type',\n",
       " 'tennis',\n",
       " 'exercise',\n",
       " 'fine',\n",
       " 'young',\n",
       " 'bet',\n",
       " 'give',\n",
       " 'everyday',\n",
       " 'diet',\n",
       " 'come',\n",
       " 'walk',\n",
       " 'start',\n",
       " 'beautiful',\n",
       " 'novels',\n",
       " 'thank',\n",
       " 'part',\n",
       " 'cream',\n",
       " 'talk',\n",
       " 'horses',\n",
       " 'outdoors',\n",
       " 'major',\n",
       " 'late',\n",
       " 'busy',\n",
       " 'yourself',\n",
       " 'canada',\n",
       " 'eyes',\n",
       " 'law',\n",
       " 'healthy',\n",
       " 'feet',\n",
       " 'beer',\n",
       " 'dead',\n",
       " 'hockey',\n",
       " 'made',\n",
       " 'blonde',\n",
       " 'bought',\n",
       " 'true',\n",
       " 'those',\n",
       " 'age',\n",
       " 'jobs',\n",
       " 'far',\n",
       " 'retired',\n",
       " '7',\n",
       " 'enough',\n",
       " 'learning',\n",
       " 'cheese',\n",
       " 'huge',\n",
       " 'usually',\n",
       " 'everything',\n",
       " 'writing',\n",
       " 'guess',\n",
       " 'together',\n",
       " 'during',\n",
       " 'us',\n",
       " 'met',\n",
       " 'middle',\n",
       " 'wanted',\n",
       " 'whats',\n",
       " 'him',\n",
       " 'weather',\n",
       " 'daughters',\n",
       " 'metal',\n",
       " 'someone',\n",
       " 'tea',\n",
       " 'his',\n",
       " 'call',\n",
       " 'divorced',\n",
       " 'lost',\n",
       " 'traveling',\n",
       " 'sport',\n",
       " 'rap',\n",
       " 'ford',\n",
       " 'youngest',\n",
       " 'sweet',\n",
       " 'california',\n",
       " 'nothing',\n",
       " 'least',\n",
       " 'having',\n",
       " 'author',\n",
       " 'army',\n",
       " 'll',\n",
       " 'sell',\n",
       " 'surf',\n",
       " 'which',\n",
       " 'marketing',\n",
       " 'seen',\n",
       " 'bake',\n",
       " 'tonight',\n",
       " 'boy',\n",
       " 'orange',\n",
       " 'mind',\n",
       " 'sisters',\n",
       " 'famous',\n",
       " 'boys',\n",
       " 'funny',\n",
       " 'accountant',\n",
       " 'wait',\n",
       " 'weekend',\n",
       " 'daughter',\n",
       " 'party',\n",
       " 'shoes',\n",
       " 'anime',\n",
       " 'cake',\n",
       " 'amazing',\n",
       " 'state',\n",
       " 'vacation',\n",
       " 'genre',\n",
       " 'professional',\n",
       " 'riding',\n",
       " 'hospital',\n",
       " 'full',\n",
       " 'afraid',\n",
       " 'writer',\n",
       " 'left',\n",
       " 'water',\n",
       " 'concerts',\n",
       " 'fall',\n",
       " 'open',\n",
       " 'vegetables',\n",
       " 'understand',\n",
       " 'wearing',\n",
       " '8',\n",
       " 'tattoos',\n",
       " 'yellow',\n",
       " 'science',\n",
       " 'won',\n",
       " 'female',\n",
       " 'instead',\n",
       " 'librarian',\n",
       " 'japan',\n",
       " 'steak',\n",
       " 'thrones',\n",
       " 'heard',\n",
       " 'sound',\n",
       " 'played',\n",
       " 'military',\n",
       " 'university',\n",
       " 'learned',\n",
       " 'someday',\n",
       " 'gym',\n",
       " 'might',\n",
       " 'probably',\n",
       " 'broke',\n",
       " 'glasses',\n",
       " 'languages',\n",
       " 'ten',\n",
       " 'learn',\n",
       " 'driving',\n",
       " 'almost',\n",
       " 'actor',\n",
       " 'flower',\n",
       " 'club',\n",
       " 'sushi',\n",
       " 'hunting',\n",
       " 'ready',\n",
       " 'crazy',\n",
       " 'classical',\n",
       " 'study',\n",
       " 'sad',\n",
       " 'comic',\n",
       " 'driver',\n",
       " 'important',\n",
       " 'apple',\n",
       " 'raised',\n",
       " 'videos',\n",
       " 'factory',\n",
       " 'feeling',\n",
       " 'stuff',\n",
       " 'their',\n",
       " 'american',\n",
       " 'ballet',\n",
       " 'dancing',\n",
       " 'stand',\n",
       " 'theater',\n",
       " 'firm',\n",
       " 'youtube',\n",
       " 'finished',\n",
       " 'graduate',\n",
       " 'nails',\n",
       " 'male',\n",
       " 'nature',\n",
       " 'salesman',\n",
       " 'boat',\n",
       " 'michigan',\n",
       " 'put',\n",
       " 'lawyer',\n",
       " 'lived',\n",
       " 'thinking',\n",
       " 'eggs',\n",
       " 'chicago',\n",
       " 'musician',\n",
       " 'terrible',\n",
       " 'along',\n",
       " 'ha',\n",
       " 'again',\n",
       " 'wonderful',\n",
       " 'miss',\n",
       " 'dragons',\n",
       " 'guy',\n",
       " 'god',\n",
       " 'idea',\n",
       " 'younger',\n",
       " 'mexican',\n",
       " 'chicken',\n",
       " 'ocean',\n",
       " 'dancer',\n",
       " 'retire',\n",
       " 'shower',\n",
       " 'curly',\n",
       " 'loves',\n",
       " 'violin',\n",
       " 'adopted',\n",
       " 'race',\n",
       " 'foot',\n",
       " 'texas',\n",
       " 'tacos',\n",
       " 'candy',\n",
       " 'cop',\n",
       " 'sew',\n",
       " 'meet',\n",
       " 'hour',\n",
       " 'worry',\n",
       " 'breakfast',\n",
       " 'math',\n",
       " 'mean',\n",
       " 'relationship',\n",
       " 'fresh',\n",
       " 'practice',\n",
       " 'later',\n",
       " 'spending',\n",
       " 'church',\n",
       " 'fiction',\n",
       " 'talking',\n",
       " 'states',\n",
       " 'baker',\n",
       " 'taught',\n",
       " 'education',\n",
       " 'second',\n",
       " 'traveled',\n",
       " 'industry',\n",
       " 'ski',\n",
       " '20',\n",
       " 'phone',\n",
       " 'relax',\n",
       " 'foods',\n",
       " 'leave',\n",
       " 'trucks',\n",
       " 'rose',\n",
       " 'under',\n",
       " 'designer',\n",
       " 'history',\n",
       " 'bank',\n",
       " 'officer',\n",
       " 'baking',\n",
       " 'chef',\n",
       " 'street',\n",
       " 'career',\n",
       " 'extra',\n",
       " '30',\n",
       " 'pasta',\n",
       " 'rain',\n",
       " 'tired',\n",
       " 'design',\n",
       " 'pool',\n",
       " 'past',\n",
       " 'through',\n",
       " 'town',\n",
       " 'mexico',\n",
       " 'miles',\n",
       " 'photography',\n",
       " 'iphone',\n",
       " 'cute',\n",
       " 'horror',\n",
       " 'paris',\n",
       " 'gets',\n",
       " 'helps',\n",
       " 'hunt',\n",
       " 'internet',\n",
       " 'yea',\n",
       " '9',\n",
       " 'elementary',\n",
       " 'alabama',\n",
       " 'until',\n",
       " 'imagine',\n",
       " 'rather',\n",
       " 'doctors',\n",
       " 'fly',\n",
       " 'stories',\n",
       " 'gone',\n",
       " 'plan',\n",
       " 'likes',\n",
       " '18',\n",
       " 'plays',\n",
       " 'bar',\n",
       " 'clean',\n",
       " 'beauty',\n",
       " 'except',\n",
       " 'eye',\n",
       " 'may',\n",
       " 'comes',\n",
       " 'd',\n",
       " 'arm',\n",
       " 'smell',\n",
       " 'bit',\n",
       " 'teaching',\n",
       " 'veterinarian',\n",
       " 'trouble',\n",
       " 'museums',\n",
       " 'pay',\n",
       " 'news',\n",
       " 'women',\n",
       " 'sons',\n",
       " 'hoping',\n",
       " 'weird',\n",
       " 'without',\n",
       " 'twin',\n",
       " 'clothing',\n",
       " 'hanging',\n",
       " 'haven',\n",
       " 'classic',\n",
       " 'worker',\n",
       " 'shelter',\n",
       " 'thought',\n",
       " 'build',\n",
       " 'romantic',\n",
       " 'came',\n",
       " 'sunday',\n",
       " 'painting',\n",
       " 'create',\n",
       " 'mechanic',\n",
       " 'smart',\n",
       " 'tried',\n",
       " 'another',\n",
       " 'boots',\n",
       " 'engineer',\n",
       " 'fruit',\n",
       " 'honda',\n",
       " 'national',\n",
       " 'quite',\n",
       " 'alot',\n",
       " 'london',\n",
       " 'anyone',\n",
       " 'ball',\n",
       " 'television',\n",
       " 'chance',\n",
       " 'each',\n",
       " 'media',\n",
       " 'camping',\n",
       " 'cant',\n",
       " 'luck',\n",
       " 'date',\n",
       " 'police',\n",
       " 'daily',\n",
       " 'decided',\n",
       " 'south',\n",
       " 'anymore',\n",
       " 'fries',\n",
       " 'spanish',\n",
       " 'either',\n",
       " 'cut',\n",
       " 'death',\n",
       " 'glad',\n",
       " 'definitely',\n",
       " 'girls',\n",
       " 'christmas',\n",
       " 'everyone',\n",
       " 'between',\n",
       " 'donate',\n",
       " 'horse',\n",
       " 'order',\n",
       " 'poor',\n",
       " 'america',\n",
       " 'beard',\n",
       " 'ex',\n",
       " 'grandmother',\n",
       " 'whole',\n",
       " 'sit',\n",
       " 'fashion',\n",
       " 'grandma',\n",
       " 'pictures',\n",
       " 'comics',\n",
       " 'share',\n",
       " 'told',\n",
       " 'saving',\n",
       " 'mcdonald',\n",
       " 'planning',\n",
       " 'spaghetti',\n",
       " 'takes',\n",
       " 'favourite',\n",
       " 'kid',\n",
       " 'cakes',\n",
       " 'head',\n",
       " 'kindergarten',\n",
       " 'shrimp',\n",
       " 'shy',\n",
       " 'character',\n",
       " 'voice',\n",
       " 'song',\n",
       " 'collection',\n",
       " 'fantasy',\n",
       " 'flowers',\n",
       " 'medical',\n",
       " 'community',\n",
       " 'chevy',\n",
       " 'bills',\n",
       " 'loved',\n",
       " 'cancer',\n",
       " 'visiting',\n",
       " 'let',\n",
       " 'saw',\n",
       " 'train',\n",
       " 'dark',\n",
       " 'set',\n",
       " 'lately',\n",
       " 'sweetheart',\n",
       " 'heights',\n",
       " 'trip',\n",
       " 'save',\n",
       " 'relaxing',\n",
       " 'cookies',\n",
       " 'building',\n",
       " 'cleaning',\n",
       " 'able',\n",
       " 'seattle',\n",
       " 'insurance',\n",
       " 'jokes',\n",
       " 'helping',\n",
       " '12',\n",
       " 'politics',\n",
       " 'drinking',\n",
       " 'super',\n",
       " 'waitress',\n",
       " 'series',\n",
       " 'casino',\n",
       " 'meals',\n",
       " 'literature',\n",
       " 'parrot',\n",
       " 'singing',\n",
       " 'mountain',\n",
       " 'mountains',\n",
       " 'agree',\n",
       " 'door',\n",
       " 'drawing',\n",
       " 'veggies',\n",
       " 'face',\n",
       " 'pass',\n",
       " 'agency',\n",
       " 'twenty',\n",
       " 'passed',\n",
       " 'couch',\n",
       " 'cartoons',\n",
       " 'ny',\n",
       " 'wrong',\n",
       " 'yours',\n",
       " 'eater',\n",
       " 'hang',\n",
       " 'skin',\n",
       " 'drums',\n",
       " 'justin',\n",
       " 'poetry',\n",
       " 'navy',\n",
       " 'change',\n",
       " 'avid',\n",
       " 'found',\n",
       " 'break',\n",
       " 'halloween',\n",
       " 'heart',\n",
       " 'took',\n",
       " 'allergies',\n",
       " 'names',\n",
       " 'netflix',\n",
       " 'golden',\n",
       " 'tend',\n",
       " 'vet',\n",
       " 'sleeping',\n",
       " 'tables',\n",
       " 'foreign',\n",
       " 'u',\n",
       " 'wonder',\n",
       " 'athlete',\n",
       " 'dating',\n",
       " 'holiday',\n",
       " 'unemployed',\n",
       " 'special',\n",
       " 'taste',\n",
       " 'europe',\n",
       " 'evening',\n",
       " 'stones',\n",
       " 'grandchildren',\n",
       " 'owns',\n",
       " 'white',\n",
       " 'diving',\n",
       " 'england',\n",
       " 'north',\n",
       " 'league',\n",
       " 'skiing',\n",
       " 'chat',\n",
       " 'personal',\n",
       " 'christian',\n",
       " 'internship',\n",
       " 'dinner',\n",
       " 'member',\n",
       " 'straight',\n",
       " 'owl',\n",
       " 'retail',\n",
       " 'pilot',\n",
       " 'computers',\n",
       " 'gay',\n",
       " 'library',\n",
       " 'wine',\n",
       " 'disney',\n",
       " 'gardening',\n",
       " 'health',\n",
       " 'seem',\n",
       " 'types',\n",
       " 'boring',\n",
       " 'baby',\n",
       " 'trust',\n",
       " 'front',\n",
       " 'ones',\n",
       " 'acting',\n",
       " 'senior',\n",
       " 'accident',\n",
       " 'bicycle',\n",
       " 'horseback',\n",
       " 'bob',\n",
       " 'meal',\n",
       " 'weight',\n",
       " 'san',\n",
       " 'strong',\n",
       " '1',\n",
       " 'motorcycle',\n",
       " 'nursing',\n",
       " 'creating',\n",
       " 'france',\n",
       " 'rolling',\n",
       " 'top',\n",
       " ...]"
      ]
     },
     "execution_count": 8,
     "metadata": {},
     "output_type": "execute_result"
    }
   ],
   "source": [
    "# load sentence processor, to speed up development iterations\n",
    "from src.util import load_vocab\n",
    "sentence_processor = load_vocab(ARTIFACTS_DIR/f'sentence_processor_18743.pkl')\n",
    "vocab = sentence_processor.vocab\n",
    "vocab.itos"
   ]
  },
  {
   "cell_type": "code",
   "execution_count": 9,
   "id": "later-synthesis",
   "metadata": {},
   "outputs": [],
   "source": [
    "# %autoreload 2\n",
    "# from src.data import get_sentence_processor\n",
    "\n",
    "# sentence_processor = get_sentence_processor(\n",
    "#     train_file=DATA_DIR/'train_both_original.json',\n",
    "# #     train_file=DATA_DIR/'aux.json',\n",
    "#     min_word_freq=1,\n",
    "#     max_vocab_size=99999,\n",
    "#     use_persona_info=True,\n",
    "#     glove_vectors='glove.6B.300d',\n",
    "#     vectors_cache=VECTORS_CACHE_DIR,\n",
    "# )\n",
    "# print(f'{len(sentence_processor.vocab):,} words in the vocabulary.')\n",
    "\n",
    "# from src.util import save_vocab\n",
    "# vocab = sentence_processor.vocab\n",
    "# save_vocab(\n",
    "#     sentence_processor.vocab,\n",
    "#     ARTIFACTS_DIR/f'vocab_{len(vocab)}.pkl'\n",
    "# )\n",
    "# print('Vocabulary saved.')\n",
    "\n",
    "# save_vocab(\n",
    "#     sentence_processor,\n",
    "#     ARTIFACTS_DIR/f'sentence_processor_{len(vocab)}.pkl'\n",
    "# )\n",
    "# print('Saved sentence processor.')"
   ]
  },
  {
   "cell_type": "markdown",
   "id": "identical-perth",
   "metadata": {},
   "source": [
    "--------"
   ]
  },
  {
   "cell_type": "markdown",
   "id": "funded-poland",
   "metadata": {},
   "source": [
    "## Quick exploratory data analysis"
   ]
  },
  {
   "cell_type": "code",
   "execution_count": 10,
   "id": "golden-antibody",
   "metadata": {},
   "outputs": [],
   "source": [
    "# %autoreload 2\n",
    "# from src.util import plot_sentence_lengths\n",
    "\n",
    "# plot_sentence_lengths(\n",
    "#     train_file=DATA_DIR/'train_none_original.csv',\n",
    "#     test_file=DATA_DIR/'test_none_original.csv',\n",
    "# )"
   ]
  },
  {
   "cell_type": "code",
   "execution_count": 11,
   "id": "rural-chinese",
   "metadata": {},
   "outputs": [
    {
     "name": "stdout",
     "output_type": "stream",
     "text": [
      "0\n",
      "1\n",
      "2\n",
      "3\n",
      "141\n"
     ]
    }
   ],
   "source": [
    "print(vocab.stoi['hdfsi'])\n",
    "print(vocab.stoi['<PAD>'])\n",
    "print(vocab.stoi['<BOS>'])\n",
    "print(vocab.stoi['<EOS>'])\n",
    "print(vocab.stoi['hi'])\n",
    "# print(vocab.vectors[0])\n",
    "# print(vocab.vectors[1])\n",
    "# print(vocab.vectors[2])\n",
    "# print(vocab.vectors[3])\n",
    "# print(vocab.vectors[vocab.stoi['hi']])"
   ]
  },
  {
   "cell_type": "markdown",
   "id": "optical-navigation",
   "metadata": {},
   "source": [
    "## PyTorch datasets"
   ]
  },
  {
   "cell_type": "code",
   "execution_count": 12,
   "id": "expressed-longer",
   "metadata": {},
   "outputs": [
    {
     "name": "stderr",
     "output_type": "stream",
     "text": [
      "/Users/paulabartabajo/miniconda3/envs/chatbot/lib/python3.7/site-packages/torchtext/data/example.py:13: UserWarning: Example class will be retired soon and moved to torchtext.legacy. Please see the most recent release notes for further information.\n",
      "  warnings.warn('Example class will be retired soon and moved to torchtext.legacy. Please see the most recent release notes for further information.', UserWarning)\n"
     ]
    },
    {
     "name": "stdout",
     "output_type": "stream",
     "text": [
      "100\n",
      "14,602\n",
      "14,056\n"
     ]
    }
   ],
   "source": [
    "%autoreload 2\n",
    "from src.data import get_datasets\n",
    "\n",
    "train_ds, val_ds, test_ds = get_datasets(\n",
    "    path=DATA_DIR,\n",
    "    train='train_both_original.json',\n",
    "    val='valid_both_original.json',\n",
    "    test='test_both_original.json',\n",
    "    sentence_processor=sentence_processor,\n",
    "    train_size=100,\n",
    "    use_persona_info=True,\n",
    ")\n",
    "\n",
    "print(f'{len(train_ds):,}')\n",
    "print(f'{len(val_ds):,}')\n",
    "print(f'{len(test_ds):,}')"
   ]
  },
  {
   "cell_type": "markdown",
   "id": "funded-senator",
   "metadata": {},
   "source": [
    "## PyTorch DataLoaders"
   ]
  },
  {
   "cell_type": "code",
   "execution_count": 13,
   "id": "alternative-attendance",
   "metadata": {
    "scrolled": true
   },
   "outputs": [
    {
     "name": "stdout",
     "output_type": "stream",
     "text": [
      "Example \n",
      "-------\n",
      "torch.Size([64, 17])\n",
      "tensor([[   2,   16,  439,  ...,    4,    3,    1],\n",
      "        [   2,    5,    9,  ..., 1871,    4,    3],\n",
      "        [   2,    5,   26,  ...,    4,    3,    1],\n",
      "        ...,\n",
      "        [   2,   33,  117,  ...,    1,    1,    1],\n",
      "        [   2, 1981,    4,  ...,    1,    1,    1],\n",
      "        [   2,    5,  469,  ...,    1,    1,    1]])\n"
     ]
    },
    {
     "name": "stderr",
     "output_type": "stream",
     "text": [
      "/Users/paulabartabajo/miniconda3/envs/chatbot/lib/python3.7/site-packages/torchtext/data/iterator.py:48: UserWarning: BucketIterator class will be retired soon and moved to torchtext.legacy. Please see the most recent release notes for further information.\n",
      "  warnings.warn('{} class will be retired soon and moved to torchtext.legacy. Please see the most recent release notes for further information.'.format(self.__class__.__name__), UserWarning)\n",
      "/Users/paulabartabajo/miniconda3/envs/chatbot/lib/python3.7/site-packages/torchtext/data/batch.py:23: UserWarning: Batch class will be retired soon and moved to torchtext.legacy. Please see the most recent release notes for further information.\n",
      "  warnings.warn('{} class will be retired soon and moved to torchtext.legacy. Please see the most recent release notes for further information.'.format(self.__class__.__name__), UserWarning)\n"
     ]
    }
   ],
   "source": [
    "%autoreload 2\n",
    "from src.data import get_dataloaders\n",
    "\n",
    "train_iter, validation_iter, test_iter = get_dataloaders(\n",
    "    train_ds, val_ds, test_ds,\n",
    "    n_examples_per_batch=64,\n",
    "#     n_tokens_per_batch=2400,\n",
    "    device=DEVICE\n",
    ")\n",
    "\n",
    "x = next(iter(train_iter))\n",
    "print('Example \\n-------')\n",
    "print(x.src[0].shape)\n",
    "print(x.src[0])\n",
    "# print(x.src[1])"
   ]
  },
  {
   "cell_type": "markdown",
   "id": "characteristic-regular",
   "metadata": {},
   "source": [
    "## Check the data that enters into the model"
   ]
  },
  {
   "cell_type": "code",
   "execution_count": 14,
   "id": "sitting-agreement",
   "metadata": {},
   "outputs": [],
   "source": [
    "# n_examples = 5\n",
    "# for batch in train_iter:\n",
    "#     try:\n",
    "#         persona, _ = batch.persona\n",
    "#     except: \n",
    "#         pass\n",
    "#     src, _ = batch.src\n",
    "#     tgt, _ = batch.tgt\n",
    "    \n",
    "#     for i in range(n_examples):\n",
    "#         print(f'\\nExample {i}: ')\n",
    "        \n",
    "#         # persona\n",
    "#         try:\n",
    "#             ids = persona[i, :].cpu().detach().numpy()\n",
    "#             words = [vocab.itos[x] for x in ids]\n",
    "#             print('persona: ', ' '.join(words))\n",
    "#         except:\n",
    "#             pass\n",
    "        \n",
    "#         # source text\n",
    "#         ids = src[i, :].cpu().detach().numpy()\n",
    "#         words = [vocab.itos[x] for x in ids]\n",
    "#         print('SRC: ', ' '.join(words))\n",
    "\n",
    "#         # actual response\n",
    "#         ids = tgt[i, :].cpu().detach().numpy()\n",
    "#         words = [vocab.itos[x] for x in ids]\n",
    "#         print('TGT: ', ' '.join(words))\n",
    "        \n",
    "#     break"
   ]
  },
  {
   "cell_type": "markdown",
   "id": "forbidden-nickname",
   "metadata": {},
   "source": [
    "## Model"
   ]
  },
  {
   "cell_type": "code",
   "execution_count": 20,
   "id": "voluntary-credit",
   "metadata": {},
   "outputs": [
    {
     "name": "stdout",
     "output_type": "stream",
     "text": [
      "The model has 72,948,535 parameters\n"
     ]
    }
   ],
   "source": [
    "%autoreload 2\n",
    "from src.transformer.model import Transformer, count_parameters\n",
    "from src.data import PAD_TOKEN\n",
    "\n",
    "vocab = sentence_processor.vocab\n",
    "\n",
    "# For the momemnt, no GloVe vectors.\n",
    "\n",
    "model = Transformer(\n",
    "    model_dimension=512,\n",
    "    \n",
    "    vocab_size=len(vocab),\n",
    "    \n",
    "    number_of_heads=8,\n",
    "    number_of_layers=6,\n",
    "    dropout_probability=0.2,\n",
    "    padding_idx=vocab.stoi[PAD_TOKEN],\n",
    "    log_attention_weights=False,\n",
    ").to(DEVICE)\n",
    "\n",
    "print(f'The model has {count_parameters(model):,} parameters')"
   ]
  },
  {
   "cell_type": "markdown",
   "id": "amino-corpus",
   "metadata": {},
   "source": [
    "## Train"
   ]
  },
  {
   "cell_type": "code",
   "execution_count": 22,
   "id": "gothic-clothing",
   "metadata": {},
   "outputs": [
    {
     "name": "stdout",
     "output_type": "stream",
     "text": [
      "Epoch: 000\n"
     ]
    },
    {
     "name": "stderr",
     "output_type": "stream",
     "text": [
      "[autoreload of src.transformer.train failed: Traceback (most recent call last):\n",
      "  File \"/Users/paulabartabajo/miniconda3/envs/chatbot/lib/python3.7/site-packages/IPython/extensions/autoreload.py\", line 245, in check\n",
      "    superreload(m, reload, self.old_objects)\n",
      "  File \"/Users/paulabartabajo/miniconda3/envs/chatbot/lib/python3.7/site-packages/IPython/extensions/autoreload.py\", line 394, in superreload\n",
      "    module = reload(module)\n",
      "  File \"/Users/paulabartabajo/miniconda3/envs/chatbot/lib/python3.7/imp.py\", line 314, in reload\n",
      "    return importlib.reload(module)\n",
      "  File \"/Users/paulabartabajo/miniconda3/envs/chatbot/lib/python3.7/importlib/__init__.py\", line 169, in reload\n",
      "    _bootstrap._exec(spec, module)\n",
      "  File \"<frozen importlib._bootstrap>\", line 630, in _exec\n",
      "  File \"<frozen importlib._bootstrap_external>\", line 728, in exec_module\n",
      "  File \"<frozen importlib._bootstrap>\", line 219, in _call_with_frames_removed\n",
      "  File \"/Users/paulabartabajo/src/online-courses/advanced-nlp-chatbot/src/transformer/train.py\", line 11, in <module>\n",
      "    from torch.utils.tensorboard import SummaryWriter\n",
      "  File \"/Users/paulabartabajo/miniconda3/envs/chatbot/lib/python3.7/site-packages/torch/utils/tensorboard/__init__.py\", line 1, in <module>\n",
      "    import tensorboard\n",
      "ModuleNotFoundError: No module named 'tensorboard'\n",
      "]\n"
     ]
    },
    {
     "data": {
      "application/vnd.jupyter.widget-view+json": {
       "model_id": "accaadecb9a248bf8d2a333442b80ad1",
       "version_major": 2,
       "version_minor": 0
      },
      "text/plain": [
       "  0%|          | 0/100 [00:00<?, ?it/s]"
      ]
     },
     "metadata": {},
     "output_type": "display_data"
    },
    {
     "data": {
      "application/vnd.jupyter.widget-view+json": {
       "model_id": "2fe056e4bb1d4b7db48a422fd0d511ab",
       "version_major": 2,
       "version_minor": 0
      },
      "text/plain": [
       "  0%|          | 0/14602 [00:00<?, ?it/s]"
      ]
     },
     "metadata": {},
     "output_type": "display_data"
    },
    {
     "name": "stdout",
     "output_type": "stream",
     "text": [
      "\n",
      "Example 0: \n",
      "SRC:  <BOS> i live in colorado . i am a mechanical engineer . my favorite activity is rock climbing . i have a black lab named trooper . i like to go hiking in the spring . <EOS> <PAD> <PAD> <PAD> <PAD> <PAD> <PAD> <PAD> <PAD> <PAD> <PAD> <PAD> <PAD> <PAD> <PAD> <PAD> <PAD> <PAD> <PAD> <PAD> <BOS> trooper is my sons name <EOS>\n",
      "TGT:  <BOS> awesome . how old is he ?\n",
      "MODEL:  <EOS> <EOS> <EOS> <EOS> <EOS> <EOS> <EOS> <EOS>\n",
      "\n",
      "Example 1: \n",
      "SRC:  <BOS> i am an economics major . i am married with two kids . i just bought a house recently . i see the rolling stones in concert every year . i eat a raw diet . <EOS> <PAD> <PAD> <PAD> <PAD> <PAD> <PAD> <PAD> <PAD> <PAD> <PAD> <PAD> <PAD> <PAD> <PAD> <PAD> <PAD> <PAD> <PAD> <BOS> its called live action roleplaying <EOS>\n",
      "TGT:  <BOS> my kids might like that game .\n",
      "MODEL:  <EOS> <EOS> <EOS> <EOS> <EOS> <EOS> <EOS> <EOS>\n",
      "\n",
      "Example 2: \n",
      "SRC:  <BOS> i dream of moving to the city . my family has raised horses for a generations . i was raised on a horse farm . i am from a small town . i want to be a lawyer . <EOS> <PAD> <PAD> <PAD> <PAD> <PAD> <PAD> <PAD> <PAD> <PAD> <PAD> <PAD> <PAD> <PAD> <PAD> <PAD> <BOS> work work work and work <EOS>\n",
      "TGT:  <BOS> you do not ever just have fun\n",
      "MODEL:  <EOS> <EOS> <EOS> <EOS> <EOS> <EOS> <EOS> <EOS>\n",
      "\n",
      "Epoch: 000, Train loss: 9.0733, Val loss: 8.8432\n",
      "\n",
      "Epoch: 000, Train ppl: 8719.2453, Val pll: 6926.9636\n",
      "/Users/paulabartabajo/src/online-courses/advanced-nlp-chatbot/artifacts/ceb13e34-7f82-11eb-984c-acbc32b70c09/0.ckpt was saved\n",
      "/Users/paulabartabajo/src/online-courses/advanced-nlp-chatbot/artifacts/ceb13e34-7f82-11eb-984c-acbc32b70c09/params.json file was saved\n",
      "--------------------------------------------------------------------------------\n",
      "Epoch: 001\n"
     ]
    },
    {
     "data": {
      "application/vnd.jupyter.widget-view+json": {
       "model_id": "4c27600d36e14a11b300c1e2aa743d4a",
       "version_major": 2,
       "version_minor": 0
      },
      "text/plain": [
       "  0%|          | 0/100 [00:00<?, ?it/s]"
      ]
     },
     "metadata": {},
     "output_type": "display_data"
    },
    {
     "data": {
      "application/vnd.jupyter.widget-view+json": {
       "model_id": "c3ba1db44dfa4fffaa7e3f26a11c6192",
       "version_major": 2,
       "version_minor": 0
      },
      "text/plain": [
       "  0%|          | 0/14602 [00:00<?, ?it/s]"
      ]
     },
     "metadata": {},
     "output_type": "display_data"
    },
    {
     "name": "stdout",
     "output_type": "stream",
     "text": [
      "\n",
      "Example 0: \n",
      "SRC:  <BOS> i live in colorado . i am a mechanical engineer . my favorite activity is rock climbing . i have a black lab named trooper . i like to go hiking in the spring . <EOS> <PAD> <PAD> <PAD> <PAD> <PAD> <PAD> <PAD> <PAD> <PAD> <PAD> <PAD> <PAD> <PAD> <PAD> <PAD> <PAD> <PAD> <PAD> <PAD> <BOS> trooper is my sons name <EOS>\n",
      "TGT:  <BOS> awesome . how old is he ?\n",
      "MODEL:  i i i i i <EOS> <EOS> <EOS>\n",
      "\n",
      "Example 1: \n",
      "SRC:  <BOS> i am an economics major . i am married with two kids . i just bought a house recently . i see the rolling stones in concert every year . i eat a raw diet . <EOS> <PAD> <PAD> <PAD> <PAD> <PAD> <PAD> <PAD> <PAD> <PAD> <PAD> <PAD> <PAD> <PAD> <PAD> <PAD> <PAD> <PAD> <PAD> <BOS> its called live action roleplaying <EOS>\n",
      "TGT:  <BOS> my kids might like that game .\n",
      "MODEL:  i i i i i i <EOS> <EOS>\n",
      "\n",
      "Example 2: \n",
      "SRC:  <BOS> i dream of moving to the city . my family has raised horses for a generations . i was raised on a horse farm . i am from a small town . i want to be a lawyer . <EOS> <PAD> <PAD> <PAD> <PAD> <PAD> <PAD> <PAD> <PAD> <PAD> <PAD> <PAD> <PAD> <PAD> <PAD> <PAD> <BOS> work work work and work <EOS>\n",
      "TGT:  <BOS> you do not ever just have fun\n",
      "MODEL:  i i i i i <EOS> <EOS> <EOS>\n",
      "\n",
      "Epoch: 001, Train loss: 8.8479, Val loss: 8.7160\n",
      "\n",
      "Epoch: 001, Train ppl: 6959.4571, Val pll: 6099.4846\n",
      "/Users/paulabartabajo/src/online-courses/advanced-nlp-chatbot/artifacts/ceb13e34-7f82-11eb-984c-acbc32b70c09/1.ckpt was saved\n",
      "/Users/paulabartabajo/src/online-courses/advanced-nlp-chatbot/artifacts/ceb13e34-7f82-11eb-984c-acbc32b70c09/params.json file was saved\n",
      "--------------------------------------------------------------------------------\n",
      "Epoch: 002\n"
     ]
    },
    {
     "data": {
      "application/vnd.jupyter.widget-view+json": {
       "model_id": "2f439f670905415897a5c5c0f5a1042f",
       "version_major": 2,
       "version_minor": 0
      },
      "text/plain": [
       "  0%|          | 0/100 [00:00<?, ?it/s]"
      ]
     },
     "metadata": {},
     "output_type": "display_data"
    },
    {
     "data": {
      "application/vnd.jupyter.widget-view+json": {
       "model_id": "25bf372a85604c8680d24982b5c93fc9",
       "version_major": 2,
       "version_minor": 0
      },
      "text/plain": [
       "  0%|          | 0/14602 [00:00<?, ?it/s]"
      ]
     },
     "metadata": {},
     "output_type": "display_data"
    },
    {
     "name": "stdout",
     "output_type": "stream",
     "text": [
      "\n",
      "Example 0: \n",
      "SRC:  <BOS> i live in colorado . i am a mechanical engineer . my favorite activity is rock climbing . i have a black lab named trooper . i like to go hiking in the spring . <EOS> <PAD> <PAD> <PAD> <PAD> <PAD> <PAD> <PAD> <PAD> <PAD> <PAD> <PAD> <PAD> <PAD> <PAD> <PAD> <PAD> <PAD> <PAD> <PAD> <BOS> trooper is my sons name <EOS>\n",
      "TGT:  <BOS> awesome . how old is he ?\n",
      "MODEL:  i i i i i <EOS> <EOS> <EOS>\n",
      "\n",
      "Example 1: \n",
      "SRC:  <BOS> i am an economics major . i am married with two kids . i just bought a house recently . i see the rolling stones in concert every year . i eat a raw diet . <EOS> <PAD> <PAD> <PAD> <PAD> <PAD> <PAD> <PAD> <PAD> <PAD> <PAD> <PAD> <PAD> <PAD> <PAD> <PAD> <PAD> <PAD> <PAD> <BOS> its called live action roleplaying <EOS>\n",
      "TGT:  <BOS> my kids might like that game .\n",
      "MODEL:  i i i i i i <EOS> <EOS>\n",
      "\n",
      "Example 2: \n",
      "SRC:  <BOS> i dream of moving to the city . my family has raised horses for a generations . i was raised on a horse farm . i am from a small town . i want to be a lawyer . <EOS> <PAD> <PAD> <PAD> <PAD> <PAD> <PAD> <PAD> <PAD> <PAD> <PAD> <PAD> <PAD> <PAD> <PAD> <PAD> <BOS> work work work and work <EOS>\n",
      "TGT:  <BOS> you do not ever just have fun\n",
      "MODEL:  i i i i i <EOS> <EOS> <EOS>\n",
      "\n",
      "Epoch: 002, Train loss: 8.6691, Val loss: 8.5794\n",
      "\n",
      "Epoch: 002, Train ppl: 5820.2798, Val pll: 5320.8210\n",
      "/Users/paulabartabajo/src/online-courses/advanced-nlp-chatbot/artifacts/ceb13e34-7f82-11eb-984c-acbc32b70c09/2.ckpt was saved\n",
      "/Users/paulabartabajo/src/online-courses/advanced-nlp-chatbot/artifacts/ceb13e34-7f82-11eb-984c-acbc32b70c09/params.json file was saved\n",
      "--------------------------------------------------------------------------------\n",
      "Epoch: 003\n"
     ]
    },
    {
     "data": {
      "application/vnd.jupyter.widget-view+json": {
       "model_id": "1fc9d8a765d44c879f4d210228dd223d",
       "version_major": 2,
       "version_minor": 0
      },
      "text/plain": [
       "  0%|          | 0/100 [00:00<?, ?it/s]"
      ]
     },
     "metadata": {},
     "output_type": "display_data"
    },
    {
     "data": {
      "application/vnd.jupyter.widget-view+json": {
       "model_id": "a02d53e67a834bb4a97eddee89e79507",
       "version_major": 2,
       "version_minor": 0
      },
      "text/plain": [
       "  0%|          | 0/14602 [00:00<?, ?it/s]"
      ]
     },
     "metadata": {},
     "output_type": "display_data"
    },
    {
     "name": "stdout",
     "output_type": "stream",
     "text": [
      "\n",
      "Example 0: \n",
      "SRC:  <BOS> i live in colorado . i am a mechanical engineer . my favorite activity is rock climbing . i have a black lab named trooper . i like to go hiking in the spring . <EOS> <PAD> <PAD> <PAD> <PAD> <PAD> <PAD> <PAD> <PAD> <PAD> <PAD> <PAD> <PAD> <PAD> <PAD> <PAD> <PAD> <PAD> <PAD> <PAD> <BOS> trooper is my sons name <EOS>\n",
      "TGT:  <BOS> awesome . how old is he ?\n",
      "MODEL:  i i i i <EOS> <EOS> <EOS> <EOS>\n",
      "\n",
      "Example 1: \n",
      "SRC:  <BOS> i am an economics major . i am married with two kids . i just bought a house recently . i see the rolling stones in concert every year . i eat a raw diet . <EOS> <PAD> <PAD> <PAD> <PAD> <PAD> <PAD> <PAD> <PAD> <PAD> <PAD> <PAD> <PAD> <PAD> <PAD> <PAD> <PAD> <PAD> <PAD> <BOS> its called live action roleplaying <EOS>\n",
      "TGT:  <BOS> my kids might like that game .\n",
      "MODEL:  i i i i <EOS> <EOS> <EOS> <EOS>\n",
      "\n",
      "Example 2: \n",
      "SRC:  <BOS> i dream of moving to the city . my family has raised horses for a generations . i was raised on a horse farm . i am from a small town . i want to be a lawyer . <EOS> <PAD> <PAD> <PAD> <PAD> <PAD> <PAD> <PAD> <PAD> <PAD> <PAD> <PAD> <PAD> <PAD> <PAD> <PAD> <BOS> work work work and work <EOS>\n",
      "TGT:  <BOS> you do not ever just have fun\n",
      "MODEL:  i i i i <EOS> <EOS> <EOS> <EOS>\n",
      "\n",
      "Epoch: 003, Train loss: 8.5265, Val loss: 8.4387\n",
      "\n",
      "Epoch: 003, Train ppl: 5046.7007, Val pll: 4622.3994\n",
      "/Users/paulabartabajo/src/online-courses/advanced-nlp-chatbot/artifacts/ceb13e34-7f82-11eb-984c-acbc32b70c09/3.ckpt was saved\n",
      "/Users/paulabartabajo/src/online-courses/advanced-nlp-chatbot/artifacts/ceb13e34-7f82-11eb-984c-acbc32b70c09/params.json file was saved\n",
      "--------------------------------------------------------------------------------\n",
      "Epoch: 004\n"
     ]
    },
    {
     "data": {
      "application/vnd.jupyter.widget-view+json": {
       "model_id": "e826d252e10048a6980260ce373baba6",
       "version_major": 2,
       "version_minor": 0
      },
      "text/plain": [
       "  0%|          | 0/100 [00:00<?, ?it/s]"
      ]
     },
     "metadata": {},
     "output_type": "display_data"
    },
    {
     "ename": "KeyboardInterrupt",
     "evalue": "",
     "output_type": "error",
     "traceback": [
      "\u001b[0;31m---------------------------------------------------------------------------\u001b[0m",
      "\u001b[0;31mKeyboardInterrupt\u001b[0m                         Traceback (most recent call last)",
      "\u001b[0;32m<ipython-input-22-063054309226>\u001b[0m in \u001b[0;36m<module>\u001b[0;34m\u001b[0m\n\u001b[1;32m     18\u001b[0m \u001b[0;34m\u001b[0m\u001b[0m\n\u001b[1;32m     19\u001b[0m \u001b[0mepochs\u001b[0m \u001b[0;34m=\u001b[0m \u001b[0;36m10\u001b[0m\u001b[0;34m\u001b[0m\u001b[0;34m\u001b[0m\u001b[0m\n\u001b[0;32m---> 20\u001b[0;31m \u001b[0mtrainer\u001b[0m\u001b[0;34m.\u001b[0m\u001b[0mtrain_test_loop\u001b[0m\u001b[0;34m(\u001b[0m\u001b[0mepochs\u001b[0m\u001b[0;34m)\u001b[0m\u001b[0;34m\u001b[0m\u001b[0;34m\u001b[0m\u001b[0m\n\u001b[0m",
      "\u001b[0;32m~/src/online-courses/advanced-nlp-chatbot/src/transformer/train.py\u001b[0m in \u001b[0;36mtrain_test_loop\u001b[0;34m(self, n_epochs)\u001b[0m\n\u001b[1;32m     93\u001b[0m             \u001b[0mself\u001b[0m\u001b[0;34m.\u001b[0m\u001b[0mwriter\u001b[0m \u001b[0;34m=\u001b[0m \u001b[0mSummaryWriter\u001b[0m\u001b[0;34m(\u001b[0m\u001b[0mtensorboard_dir\u001b[0m\u001b[0;34m)\u001b[0m\u001b[0;34m\u001b[0m\u001b[0;34m\u001b[0m\u001b[0m\n\u001b[1;32m     94\u001b[0m \u001b[0;34m\u001b[0m\u001b[0m\n\u001b[0;32m---> 95\u001b[0;31m     \u001b[0;32mdef\u001b[0m \u001b[0mtrain_test_loop\u001b[0m\u001b[0;34m(\u001b[0m\u001b[0mself\u001b[0m\u001b[0;34m,\u001b[0m \u001b[0mn_epochs\u001b[0m\u001b[0;34m)\u001b[0m\u001b[0;34m:\u001b[0m\u001b[0;34m\u001b[0m\u001b[0;34m\u001b[0m\u001b[0m\n\u001b[0m\u001b[1;32m     96\u001b[0m         \"\"\"\n\u001b[1;32m     97\u001b[0m \u001b[0;34m\u001b[0m\u001b[0m\n",
      "\u001b[0;32m~/src/online-courses/advanced-nlp-chatbot/src/transformer/train.py\u001b[0m in \u001b[0;36mtrain\u001b[0;34m(self)\u001b[0m\n\u001b[1;32m    159\u001b[0m \u001b[0;34m\u001b[0m\u001b[0m\n\u001b[1;32m    160\u001b[0m                 \u001b[0;31m# compute the loss\u001b[0m\u001b[0;34m\u001b[0m\u001b[0;34m\u001b[0m\u001b[0;34m\u001b[0m\u001b[0m\n\u001b[0;32m--> 161\u001b[0;31m                 \u001b[0;32mif\u001b[0m \u001b[0mself\u001b[0m\u001b[0;34m.\u001b[0m\u001b[0muse_label_smoothing\u001b[0m\u001b[0;34m:\u001b[0m\u001b[0;34m\u001b[0m\u001b[0;34m\u001b[0m\u001b[0m\n\u001b[0m\u001b[1;32m    162\u001b[0m                     \u001b[0msmooth_target_distributions\u001b[0m \u001b[0;34m=\u001b[0m \u001b[0mself\u001b[0m\u001b[0;34m.\u001b[0m\u001b[0mlabel_smoothing\u001b[0m\u001b[0;34m(\u001b[0m\u001b[0mtrg_token_ids_batch_gt\u001b[0m\u001b[0;34m)\u001b[0m\u001b[0;34m\u001b[0m\u001b[0;34m\u001b[0m\u001b[0m\n\u001b[1;32m    163\u001b[0m                     \u001b[0mloss\u001b[0m \u001b[0;34m=\u001b[0m \u001b[0mself\u001b[0m\u001b[0;34m.\u001b[0m\u001b[0mloss_fn\u001b[0m\u001b[0;34m(\u001b[0m\u001b[0mpredicted_log_distributions\u001b[0m\u001b[0;34m,\u001b[0m \u001b[0msmooth_target_distributions\u001b[0m\u001b[0;34m)\u001b[0m\u001b[0;34m\u001b[0m\u001b[0;34m\u001b[0m\u001b[0m\n",
      "\u001b[0;32m~/miniconda3/envs/chatbot/lib/python3.7/site-packages/torch/tensor.py\u001b[0m in \u001b[0;36mbackward\u001b[0;34m(self, gradient, retain_graph, create_graph)\u001b[0m\n\u001b[1;32m    219\u001b[0m                 \u001b[0mretain_graph\u001b[0m\u001b[0;34m=\u001b[0m\u001b[0mretain_graph\u001b[0m\u001b[0;34m,\u001b[0m\u001b[0;34m\u001b[0m\u001b[0;34m\u001b[0m\u001b[0m\n\u001b[1;32m    220\u001b[0m                 create_graph=create_graph)\n\u001b[0;32m--> 221\u001b[0;31m         \u001b[0mtorch\u001b[0m\u001b[0;34m.\u001b[0m\u001b[0mautograd\u001b[0m\u001b[0;34m.\u001b[0m\u001b[0mbackward\u001b[0m\u001b[0;34m(\u001b[0m\u001b[0mself\u001b[0m\u001b[0;34m,\u001b[0m \u001b[0mgradient\u001b[0m\u001b[0;34m,\u001b[0m \u001b[0mretain_graph\u001b[0m\u001b[0;34m,\u001b[0m \u001b[0mcreate_graph\u001b[0m\u001b[0;34m)\u001b[0m\u001b[0;34m\u001b[0m\u001b[0;34m\u001b[0m\u001b[0m\n\u001b[0m\u001b[1;32m    222\u001b[0m \u001b[0;34m\u001b[0m\u001b[0m\n\u001b[1;32m    223\u001b[0m     \u001b[0;32mdef\u001b[0m \u001b[0mregister_hook\u001b[0m\u001b[0;34m(\u001b[0m\u001b[0mself\u001b[0m\u001b[0;34m,\u001b[0m \u001b[0mhook\u001b[0m\u001b[0;34m)\u001b[0m\u001b[0;34m:\u001b[0m\u001b[0;34m\u001b[0m\u001b[0;34m\u001b[0m\u001b[0m\n",
      "\u001b[0;32m~/miniconda3/envs/chatbot/lib/python3.7/site-packages/torch/autograd/__init__.py\u001b[0m in \u001b[0;36mbackward\u001b[0;34m(tensors, grad_tensors, retain_graph, create_graph, grad_variables)\u001b[0m\n\u001b[1;32m    130\u001b[0m     Variable._execution_engine.run_backward(\n\u001b[1;32m    131\u001b[0m         \u001b[0mtensors\u001b[0m\u001b[0;34m,\u001b[0m \u001b[0mgrad_tensors_\u001b[0m\u001b[0;34m,\u001b[0m \u001b[0mretain_graph\u001b[0m\u001b[0;34m,\u001b[0m \u001b[0mcreate_graph\u001b[0m\u001b[0;34m,\u001b[0m\u001b[0;34m\u001b[0m\u001b[0;34m\u001b[0m\u001b[0m\n\u001b[0;32m--> 132\u001b[0;31m         allow_unreachable=True)  # allow_unreachable flag\n\u001b[0m\u001b[1;32m    133\u001b[0m \u001b[0;34m\u001b[0m\u001b[0m\n\u001b[1;32m    134\u001b[0m \u001b[0;34m\u001b[0m\u001b[0m\n",
      "\u001b[0;31mKeyboardInterrupt\u001b[0m: "
     ]
    }
   ],
   "source": [
    "%autoreload 2\n",
    "from src.transformer.train import TransformerTrainer\n",
    "\n",
    "trainer = TransformerTrainer(\n",
    "    model,\n",
    "    train_iter,\n",
    "    validation_iter,\n",
    "    learning_rate=1e-4,\n",
    "    vocab=vocab,\n",
    "    pad_token_id=vocab.stoi[PAD_TOKEN],\n",
    "    checkpoint_dir=ARTIFACTS_DIR,\n",
    "    validation_freq=1,\n",
    "    validation_n_examples=10,\n",
    "    loss_fn='cross-entropy',\n",
    "    debug=False,\n",
    "    use_label_smoothing=False,\n",
    ")\n",
    "\n",
    "epochs = 10\n",
    "trainer.train_test_loop(epochs)"
   ]
  },
  {
   "cell_type": "markdown",
   "id": "saved-beach",
   "metadata": {},
   "source": [
    "## In case you want to resume training from a saved checkpoint"
   ]
  },
  {
   "cell_type": "code",
   "execution_count": 127,
   "id": "abstract-beijing",
   "metadata": {},
   "outputs": [
    {
     "data": {
      "application/vnd.jupyter.widget-view+json": {
       "model_id": "08884c174fb24de39d0ae8f8d2765067",
       "version_major": 2,
       "version_minor": 0
      },
      "text/plain": [
       "  0%|          | 0/1000 [00:00<?, ?it/s]"
      ]
     },
     "metadata": {},
     "output_type": "display_data"
    },
    {
     "data": {
      "application/vnd.jupyter.widget-view+json": {
       "model_id": "ed6dd08794a84e2d966086e0a2934837",
       "version_major": 2,
       "version_minor": 0
      },
      "text/plain": [
       "  0%|          | 0/10000 [00:00<?, ?it/s]"
      ]
     },
     "metadata": {},
     "output_type": "display_data"
    },
    {
     "name": "stdout",
     "output_type": "stream",
     "text": [
      "Epoch: 000, Train loss: 4.6936, Val loss: 4.5945, Train ppl: 109.3, Val ppl: 98.9\n",
      "artifacts/116f63f4-6ab8-11eb-a582-acbc32b70c09/9.ckpt was saved\n",
      "artifacts/116f63f4-6ab8-11eb-a582-acbc32b70c09/params.json file was saved\n"
     ]
    },
    {
     "data": {
      "application/vnd.jupyter.widget-view+json": {
       "model_id": "f5f787d7dd1a4050bae67f600f3a868d",
       "version_major": 2,
       "version_minor": 0
      },
      "text/plain": [
       "  0%|          | 0/1000 [00:00<?, ?it/s]"
      ]
     },
     "metadata": {},
     "output_type": "display_data"
    },
    {
     "data": {
      "application/vnd.jupyter.widget-view+json": {
       "model_id": "6ada41e64e654ef2bf21aa4a769a9777",
       "version_major": 2,
       "version_minor": 0
      },
      "text/plain": [
       "  0%|          | 0/10000 [00:00<?, ?it/s]"
      ]
     },
     "metadata": {},
     "output_type": "display_data"
    },
    {
     "name": "stdout",
     "output_type": "stream",
     "text": [
      "Epoch: 001, Train loss: 4.6872, Val loss: 4.5905, Train ppl: 108.6, Val ppl: 98.5\n",
      "artifacts/116f63f4-6ab8-11eb-a582-acbc32b70c09/10.ckpt was saved\n",
      "artifacts/116f63f4-6ab8-11eb-a582-acbc32b70c09/params.json file was saved\n"
     ]
    },
    {
     "data": {
      "application/vnd.jupyter.widget-view+json": {
       "model_id": "a84f2c9c73c640648e4aa328ef583703",
       "version_major": 2,
       "version_minor": 0
      },
      "text/plain": [
       "  0%|          | 0/1000 [00:00<?, ?it/s]"
      ]
     },
     "metadata": {},
     "output_type": "display_data"
    },
    {
     "data": {
      "application/vnd.jupyter.widget-view+json": {
       "model_id": "ae463ed457fa467c98db8ecc6daddac4",
       "version_major": 2,
       "version_minor": 0
      },
      "text/plain": [
       "  0%|          | 0/10000 [00:00<?, ?it/s]"
      ]
     },
     "metadata": {},
     "output_type": "display_data"
    },
    {
     "name": "stdout",
     "output_type": "stream",
     "text": [
      "Epoch: 002, Train loss: 4.6767, Val loss: 4.5925, Train ppl: 107.4, Val ppl: 98.7\n"
     ]
    },
    {
     "data": {
      "application/vnd.jupyter.widget-view+json": {
       "model_id": "4b0069f84f424877815a17291714846e",
       "version_major": 2,
       "version_minor": 0
      },
      "text/plain": [
       "  0%|          | 0/1000 [00:00<?, ?it/s]"
      ]
     },
     "metadata": {},
     "output_type": "display_data"
    },
    {
     "data": {
      "application/vnd.jupyter.widget-view+json": {
       "model_id": "810822f89cb14da6b704e54b696decca",
       "version_major": 2,
       "version_minor": 0
      },
      "text/plain": [
       "  0%|          | 0/10000 [00:00<?, ?it/s]"
      ]
     },
     "metadata": {},
     "output_type": "display_data"
    },
    {
     "name": "stdout",
     "output_type": "stream",
     "text": [
      "Epoch: 003, Train loss: 4.6707, Val loss: 4.5887, Train ppl: 106.8, Val ppl: 98.4\n",
      "artifacts/116f63f4-6ab8-11eb-a582-acbc32b70c09/12.ckpt was saved\n",
      "artifacts/116f63f4-6ab8-11eb-a582-acbc32b70c09/params.json file was saved\n"
     ]
    },
    {
     "data": {
      "application/vnd.jupyter.widget-view+json": {
       "model_id": "b2ff8a5b599e4e6b9fb202d4714bc231",
       "version_major": 2,
       "version_minor": 0
      },
      "text/plain": [
       "  0%|          | 0/1000 [00:00<?, ?it/s]"
      ]
     },
     "metadata": {},
     "output_type": "display_data"
    },
    {
     "data": {
      "application/vnd.jupyter.widget-view+json": {
       "model_id": "b4d4e18edc544ceb88d3e70ec244a88f",
       "version_major": 2,
       "version_minor": 0
      },
      "text/plain": [
       "  0%|          | 0/10000 [00:00<?, ?it/s]"
      ]
     },
     "metadata": {},
     "output_type": "display_data"
    },
    {
     "name": "stdout",
     "output_type": "stream",
     "text": [
      "Epoch: 004, Train loss: 4.6637, Val loss: 4.5880, Train ppl: 106.0, Val ppl: 98.3\n",
      "artifacts/116f63f4-6ab8-11eb-a582-acbc32b70c09/13.ckpt was saved\n",
      "artifacts/116f63f4-6ab8-11eb-a582-acbc32b70c09/params.json file was saved\n"
     ]
    },
    {
     "data": {
      "application/vnd.jupyter.widget-view+json": {
       "model_id": "9223717283fb47a0810bda49d3a52951",
       "version_major": 2,
       "version_minor": 0
      },
      "text/plain": [
       "  0%|          | 0/1000 [00:00<?, ?it/s]"
      ]
     },
     "metadata": {},
     "output_type": "display_data"
    },
    {
     "data": {
      "application/vnd.jupyter.widget-view+json": {
       "model_id": "9ac5895066604f719dfff82ff86ef559",
       "version_major": 2,
       "version_minor": 0
      },
      "text/plain": [
       "  0%|          | 0/10000 [00:00<?, ?it/s]"
      ]
     },
     "metadata": {},
     "output_type": "display_data"
    },
    {
     "name": "stdout",
     "output_type": "stream",
     "text": [
      "Epoch: 005, Train loss: 4.6581, Val loss: 4.5776, Train ppl: 105.4, Val ppl: 97.3\n",
      "artifacts/116f63f4-6ab8-11eb-a582-acbc32b70c09/14.ckpt was saved\n",
      "artifacts/116f63f4-6ab8-11eb-a582-acbc32b70c09/params.json file was saved\n"
     ]
    },
    {
     "data": {
      "application/vnd.jupyter.widget-view+json": {
       "model_id": "80d8734a1fc0402b9f2d3b9bbce933e9",
       "version_major": 2,
       "version_minor": 0
      },
      "text/plain": [
       "  0%|          | 0/1000 [00:00<?, ?it/s]"
      ]
     },
     "metadata": {},
     "output_type": "display_data"
    },
    {
     "data": {
      "application/vnd.jupyter.widget-view+json": {
       "model_id": "a60564c8f51b4349b98aed5f2597a2c3",
       "version_major": 2,
       "version_minor": 0
      },
      "text/plain": [
       "  0%|          | 0/10000 [00:00<?, ?it/s]"
      ]
     },
     "metadata": {},
     "output_type": "display_data"
    },
    {
     "name": "stdout",
     "output_type": "stream",
     "text": [
      "Epoch: 006, Train loss: 4.6563, Val loss: 4.5849, Train ppl: 105.2, Val ppl: 98.0\n"
     ]
    },
    {
     "data": {
      "application/vnd.jupyter.widget-view+json": {
       "model_id": "84028a7838d04471905c68c8cf309ea1",
       "version_major": 2,
       "version_minor": 0
      },
      "text/plain": [
       "  0%|          | 0/1000 [00:00<?, ?it/s]"
      ]
     },
     "metadata": {},
     "output_type": "display_data"
    },
    {
     "data": {
      "application/vnd.jupyter.widget-view+json": {
       "model_id": "3a7d68a3e7374a2cb13b01c8ffa95ca6",
       "version_major": 2,
       "version_minor": 0
      },
      "text/plain": [
       "  0%|          | 0/10000 [00:00<?, ?it/s]"
      ]
     },
     "metadata": {},
     "output_type": "display_data"
    },
    {
     "name": "stdout",
     "output_type": "stream",
     "text": [
      "Epoch: 007, Train loss: 4.6507, Val loss: 4.5755, Train ppl: 104.7, Val ppl: 97.1\n",
      "artifacts/116f63f4-6ab8-11eb-a582-acbc32b70c09/16.ckpt was saved\n",
      "artifacts/116f63f4-6ab8-11eb-a582-acbc32b70c09/params.json file was saved\n"
     ]
    },
    {
     "data": {
      "application/vnd.jupyter.widget-view+json": {
       "model_id": "5dc5fddf645d4db78c720026752eb9c0",
       "version_major": 2,
       "version_minor": 0
      },
      "text/plain": [
       "  0%|          | 0/1000 [00:00<?, ?it/s]"
      ]
     },
     "metadata": {},
     "output_type": "display_data"
    },
    {
     "data": {
      "application/vnd.jupyter.widget-view+json": {
       "model_id": "9bb17dfae590470ca085c2f6b55db390",
       "version_major": 2,
       "version_minor": 0
      },
      "text/plain": [
       "  0%|          | 0/10000 [00:00<?, ?it/s]"
      ]
     },
     "metadata": {},
     "output_type": "display_data"
    },
    {
     "name": "stdout",
     "output_type": "stream",
     "text": [
      "Epoch: 008, Train loss: 4.6474, Val loss: 4.5824, Train ppl: 104.3, Val ppl: 97.8\n"
     ]
    },
    {
     "data": {
      "application/vnd.jupyter.widget-view+json": {
       "model_id": "05ec9a77fb384c3287cb82467e5cc08b",
       "version_major": 2,
       "version_minor": 0
      },
      "text/plain": [
       "  0%|          | 0/1000 [00:00<?, ?it/s]"
      ]
     },
     "metadata": {},
     "output_type": "display_data"
    },
    {
     "data": {
      "application/vnd.jupyter.widget-view+json": {
       "model_id": "50db0b3b393d4c81bb53e90a1e197ac9",
       "version_major": 2,
       "version_minor": 0
      },
      "text/plain": [
       "  0%|          | 0/10000 [00:00<?, ?it/s]"
      ]
     },
     "metadata": {},
     "output_type": "display_data"
    },
    {
     "name": "stdout",
     "output_type": "stream",
     "text": [
      "Epoch: 009, Train loss: 4.6414, Val loss: 4.5735, Train ppl: 103.7, Val ppl: 96.9\n",
      "artifacts/116f63f4-6ab8-11eb-a582-acbc32b70c09/18.ckpt was saved\n",
      "artifacts/116f63f4-6ab8-11eb-a582-acbc32b70c09/params.json file was saved\n"
     ]
    }
   ],
   "source": [
    "run_id = '116f63f4-6ab8-11eb-a582-acbc32b70c09'\n",
    "trainer.load(run_id=run_id, epoch=9)\n",
    "\n",
    "n_epochs = 10\n",
    "trainer.train_test_loop(n_epochs)"
   ]
  },
  {
   "cell_type": "code",
   "execution_count": null,
   "id": "compliant-manner",
   "metadata": {},
   "outputs": [],
   "source": []
  }
 ],
 "metadata": {
  "kernelspec": {
   "display_name": "Python 3",
   "language": "python",
   "name": "python3"
  }
 },
 "nbformat": 4,
 "nbformat_minor": 5
}
